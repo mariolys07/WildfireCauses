{
 "cells": [
  {
   "cell_type": "markdown",
   "id": "subject-acrobat",
   "metadata": {},
   "source": [
    "# Refinement MLP model"
   ]
  },
  {
   "cell_type": "code",
   "execution_count": 1,
   "id": "starting-dimension",
   "metadata": {},
   "outputs": [],
   "source": [
    "import pandas as pd\n",
    "import numpy as np\n",
    "import os\n",
    "from sklearn.metrics import accuracy_score, f1_score\n",
    "\n",
    "import sagemaker\n",
    "from sagemaker import get_execution_role\n",
    "from sagemaker.sklearn.estimator import SKLearn\n",
    "import warnings\n",
    "warnings.filterwarnings('ignore')"
   ]
  },
  {
   "cell_type": "code",
   "execution_count": 2,
   "id": "experienced-rocket",
   "metadata": {},
   "outputs": [],
   "source": [
    "prefix = 'wildfire'\n",
    "data_dir = 'wildfire_data'\n",
    "sagemaker_session = sagemaker.Session()\n",
    "bucket = sagemaker_session.default_bucket()\n",
    "output_path = 's3://{}/{}'.format(bucket, prefix)\n",
    "role = get_execution_role()"
   ]
  },
  {
   "cell_type": "code",
   "execution_count": 3,
   "id": "initial-phone",
   "metadata": {},
   "outputs": [],
   "source": [
    "test_ref_location = sagemaker_session.upload_data(os.path.join(data_dir, 'test_ref.csv'), key_prefix=prefix)\n",
    "val_ref_location = sagemaker_session.upload_data(os.path.join(data_dir, 'validation_ref.csv'), key_prefix=prefix)\n",
    "train_ref_location = sagemaker_session.upload_data(os.path.join(data_dir, 'train_ref.csv'), key_prefix=prefix)"
   ]
  },
  {
   "cell_type": "code",
   "execution_count": 4,
   "id": "pointed-danish",
   "metadata": {},
   "outputs": [
    {
     "name": "stderr",
     "output_type": "stream",
     "text": [
      "train_instance_type has been renamed in sagemaker>=2.\n",
      "See: https://sagemaker.readthedocs.io/en/stable/v2.html for details.\n",
      "train_instance_count has been renamed in sagemaker>=2.\n",
      "See: https://sagemaker.readthedocs.io/en/stable/v2.html for details.\n",
      "train_instance_count has been renamed in sagemaker>=2.\n",
      "See: https://sagemaker.readthedocs.io/en/stable/v2.html for details.\n",
      "train_instance_type has been renamed in sagemaker>=2.\n",
      "See: https://sagemaker.readthedocs.io/en/stable/v2.html for details.\n"
     ]
    }
   ],
   "source": [
    "sklearn_mlp = SKLearn(entry_point='train_mlp.py', \n",
    "                 source_dir='source_sklearn',\n",
    "                 role=role,\n",
    "                 train_instance_count=1,\n",
    "                 train_instance_type='ml.c4.xlarge',\n",
    "                 sagemaker_session=sagemaker_session,\n",
    "                 py_version='py3',\n",
    "                 framework_version='0.23-1')"
   ]
  },
  {
   "cell_type": "code",
   "execution_count": 5,
   "id": "better-coral",
   "metadata": {
    "scrolled": true
   },
   "outputs": [
    {
     "name": "stdout",
     "output_type": "stream",
     "text": [
      "2021-02-10 06:45:37 Starting - Starting the training job...\n",
      "2021-02-10 06:45:40 Starting - Launching requested ML instancesProfilerReport-1612939537: InProgress\n",
      "......\n",
      "2021-02-10 06:46:50 Starting - Preparing the instances for training......\n",
      "2021-02-10 06:48:00 Downloading - Downloading input data...\n",
      "2021-02-10 06:48:33 Training - Training image download completed. Training in progress....\u001b[34m2021-02-10 06:48:34,363 sagemaker-containers INFO     Imported framework sagemaker_sklearn_container.training\u001b[0m\n",
      "\u001b[34m2021-02-10 06:48:34,365 sagemaker-training-toolkit INFO     No GPUs detected (normal if no gpus installed)\u001b[0m\n",
      "\u001b[34m2021-02-10 06:48:34,374 sagemaker_sklearn_container.training INFO     Invoking user training script.\u001b[0m\n",
      "\u001b[34m2021-02-10 06:48:34,768 sagemaker-training-toolkit INFO     No GPUs detected (normal if no gpus installed)\u001b[0m\n",
      "\u001b[34m2021-02-10 06:48:34,781 sagemaker-training-toolkit INFO     No GPUs detected (normal if no gpus installed)\u001b[0m\n",
      "\u001b[34m2021-02-10 06:48:34,792 sagemaker-training-toolkit INFO     No GPUs detected (normal if no gpus installed)\u001b[0m\n",
      "\u001b[34m2021-02-10 06:48:34,804 sagemaker-training-toolkit INFO     Invoking user script\n",
      "\u001b[0m\n",
      "\u001b[34mTraining Env:\n",
      "\u001b[0m\n",
      "\u001b[34m{\n",
      "    \"additional_framework_parameters\": {},\n",
      "    \"channel_input_dirs\": {\n",
      "        \"train\": \"/opt/ml/input/data/train\"\n",
      "    },\n",
      "    \"current_host\": \"algo-1\",\n",
      "    \"framework_module\": \"sagemaker_sklearn_container.training:main\",\n",
      "    \"hosts\": [\n",
      "        \"algo-1\"\n",
      "    ],\n",
      "    \"hyperparameters\": {},\n",
      "    \"input_config_dir\": \"/opt/ml/input/config\",\n",
      "    \"input_data_config\": {\n",
      "        \"train\": {\n",
      "            \"TrainingInputMode\": \"File\",\n",
      "            \"S3DistributionType\": \"FullyReplicated\",\n",
      "            \"RecordWrapperType\": \"None\"\n",
      "        }\n",
      "    },\n",
      "    \"input_dir\": \"/opt/ml/input\",\n",
      "    \"is_master\": true,\n",
      "    \"job_name\": \"sagemaker-scikit-learn-2021-02-10-06-45-37-259\",\n",
      "    \"log_level\": 20,\n",
      "    \"master_hostname\": \"algo-1\",\n",
      "    \"model_dir\": \"/opt/ml/model\",\n",
      "    \"module_dir\": \"s3://sagemaker-us-west-1-170667047098/sagemaker-scikit-learn-2021-02-10-06-45-37-259/source/sourcedir.tar.gz\",\n",
      "    \"module_name\": \"train_mlp\",\n",
      "    \"network_interface_name\": \"eth0\",\n",
      "    \"num_cpus\": 4,\n",
      "    \"num_gpus\": 0,\n",
      "    \"output_data_dir\": \"/opt/ml/output/data\",\n",
      "    \"output_dir\": \"/opt/ml/output\",\n",
      "    \"output_intermediate_dir\": \"/opt/ml/output/intermediate\",\n",
      "    \"resource_config\": {\n",
      "        \"current_host\": \"algo-1\",\n",
      "        \"hosts\": [\n",
      "            \"algo-1\"\n",
      "        ],\n",
      "        \"network_interface_name\": \"eth0\"\n",
      "    },\n",
      "    \"user_entry_point\": \"train_mlp.py\"\u001b[0m\n",
      "\u001b[34m}\n",
      "\u001b[0m\n",
      "\u001b[34mEnvironment variables:\n",
      "\u001b[0m\n",
      "\u001b[34mSM_HOSTS=[\"algo-1\"]\u001b[0m\n",
      "\u001b[34mSM_NETWORK_INTERFACE_NAME=eth0\u001b[0m\n",
      "\u001b[34mSM_HPS={}\u001b[0m\n",
      "\u001b[34mSM_USER_ENTRY_POINT=train_mlp.py\u001b[0m\n",
      "\u001b[34mSM_FRAMEWORK_PARAMS={}\u001b[0m\n",
      "\u001b[34mSM_RESOURCE_CONFIG={\"current_host\":\"algo-1\",\"hosts\":[\"algo-1\"],\"network_interface_name\":\"eth0\"}\u001b[0m\n",
      "\u001b[34mSM_INPUT_DATA_CONFIG={\"train\":{\"RecordWrapperType\":\"None\",\"S3DistributionType\":\"FullyReplicated\",\"TrainingInputMode\":\"File\"}}\u001b[0m\n",
      "\u001b[34mSM_OUTPUT_DATA_DIR=/opt/ml/output/data\u001b[0m\n",
      "\u001b[34mSM_CHANNELS=[\"train\"]\u001b[0m\n",
      "\u001b[34mSM_CURRENT_HOST=algo-1\u001b[0m\n",
      "\u001b[34mSM_MODULE_NAME=train_mlp\u001b[0m\n",
      "\u001b[34mSM_LOG_LEVEL=20\u001b[0m\n",
      "\u001b[34mSM_FRAMEWORK_MODULE=sagemaker_sklearn_container.training:main\u001b[0m\n",
      "\u001b[34mSM_INPUT_DIR=/opt/ml/input\u001b[0m\n",
      "\u001b[34mSM_INPUT_CONFIG_DIR=/opt/ml/input/config\u001b[0m\n",
      "\u001b[34mSM_OUTPUT_DIR=/opt/ml/output\u001b[0m\n",
      "\u001b[34mSM_NUM_CPUS=4\u001b[0m\n",
      "\u001b[34mSM_NUM_GPUS=0\u001b[0m\n",
      "\u001b[34mSM_MODEL_DIR=/opt/ml/model\u001b[0m\n",
      "\u001b[34mSM_MODULE_DIR=s3://sagemaker-us-west-1-170667047098/sagemaker-scikit-learn-2021-02-10-06-45-37-259/source/sourcedir.tar.gz\u001b[0m\n",
      "\u001b[34mSM_TRAINING_ENV={\"additional_framework_parameters\":{},\"channel_input_dirs\":{\"train\":\"/opt/ml/input/data/train\"},\"current_host\":\"algo-1\",\"framework_module\":\"sagemaker_sklearn_container.training:main\",\"hosts\":[\"algo-1\"],\"hyperparameters\":{},\"input_config_dir\":\"/opt/ml/input/config\",\"input_data_config\":{\"train\":{\"RecordWrapperType\":\"None\",\"S3DistributionType\":\"FullyReplicated\",\"TrainingInputMode\":\"File\"}},\"input_dir\":\"/opt/ml/input\",\"is_master\":true,\"job_name\":\"sagemaker-scikit-learn-2021-02-10-06-45-37-259\",\"log_level\":20,\"master_hostname\":\"algo-1\",\"model_dir\":\"/opt/ml/model\",\"module_dir\":\"s3://sagemaker-us-west-1-170667047098/sagemaker-scikit-learn-2021-02-10-06-45-37-259/source/sourcedir.tar.gz\",\"module_name\":\"train_mlp\",\"network_interface_name\":\"eth0\",\"num_cpus\":4,\"num_gpus\":0,\"output_data_dir\":\"/opt/ml/output/data\",\"output_dir\":\"/opt/ml/output\",\"output_intermediate_dir\":\"/opt/ml/output/intermediate\",\"resource_config\":{\"current_host\":\"algo-1\",\"hosts\":[\"algo-1\"],\"network_interface_name\":\"eth0\"},\"user_entry_point\":\"train_mlp.py\"}\u001b[0m\n",
      "\u001b[34mSM_USER_ARGS=[]\u001b[0m\n",
      "\u001b[34mSM_OUTPUT_INTERMEDIATE_DIR=/opt/ml/output/intermediate\u001b[0m\n",
      "\u001b[34mSM_CHANNEL_TRAIN=/opt/ml/input/data/train\u001b[0m\n",
      "\u001b[34mPYTHONPATH=/opt/ml/code:/miniconda3/bin:/miniconda3/lib/python37.zip:/miniconda3/lib/python3.7:/miniconda3/lib/python3.7/lib-dynload:/miniconda3/lib/python3.7/site-packages\n",
      "\u001b[0m\n",
      "\u001b[34mInvoking script with the following command:\n",
      "\u001b[0m\n",
      "\u001b[34m/miniconda3/bin/python train_mlp.py\n",
      "\n",
      "\u001b[0m\n",
      "\u001b[34mIteration 1, loss = 1.30090208\u001b[0m\n",
      "\u001b[34mIteration 2, loss = 1.29749630\u001b[0m\n",
      "\u001b[34mIteration 3, loss = 1.29665075\u001b[0m\n",
      "\u001b[34mIteration 4, loss = 1.29722380\u001b[0m\n",
      "\u001b[34mIteration 5, loss = 1.29889082\u001b[0m\n",
      "\u001b[34mIteration 6, loss = 1.29930811\u001b[0m\n",
      "\u001b[34mIteration 7, loss = 1.29943907\u001b[0m\n",
      "\u001b[34mIteration 8, loss = 1.30024570\u001b[0m\n",
      "\u001b[34mIteration 9, loss = 1.30037816\u001b[0m\n",
      "\u001b[34mIteration 10, loss = 1.30023958\u001b[0m\n",
      "\u001b[34mIteration 11, loss = 1.29997385\u001b[0m\n",
      "\u001b[34mIteration 12, loss = 1.30015011\u001b[0m\n",
      "\u001b[34mIteration 13, loss = 1.30057939\u001b[0m\n",
      "\n",
      "2021-02-10 06:52:08 Uploading - Uploading generated training model\u001b[34mIteration 14, loss = 1.30060966\u001b[0m\n",
      "\u001b[34mTraining loss did not improve more than tol=0.000100 for 10 consecutive epochs. Stopping.\u001b[0m\n",
      "\u001b[34m2021-02-10 06:52:06,114 sagemaker-containers INFO     Reporting training SUCCESS\u001b[0m\n",
      "\n",
      "2021-02-10 06:52:24 Completed - Training job completed\n",
      "ProfilerReport-1612939537: NoIssuesFound\n",
      "Training seconds: 273\n",
      "Billable seconds: 273\n",
      "CPU times: user 983 ms, sys: 0 ns, total: 983 ms\n",
      "Wall time: 7min 14s\n"
     ]
    }
   ],
   "source": [
    "%%time\n",
    "output_path='s3://{}/{}/'.format(bucket, prefix)\n",
    "\n",
    "# Train your estimator on S3 training data\n",
    "sklearn_mlp.fit({'train': output_path})"
   ]
  },
  {
   "cell_type": "code",
   "execution_count": 6,
   "id": "naughty-karma",
   "metadata": {},
   "outputs": [
    {
     "name": "stdout",
     "output_type": "stream",
     "text": [
      "-------------------!"
     ]
    }
   ],
   "source": [
    "mlp_predictor = sklearn_mlp.deploy(initial_instance_count=1, instance_type='ml.t2.medium')"
   ]
  },
  {
   "cell_type": "code",
   "execution_count": 7,
   "id": "competent-jamaica",
   "metadata": {},
   "outputs": [],
   "source": [
    "val = pd.read_csv(os.path.join(data_dir, 'validation_ref.csv'), header=None)\n",
    "test_x = pd.read_csv(os.path.join(data_dir, 'test_ref.csv'), header=None)\n",
    "test_y = pd.read_csv(os.path.join(data_dir, 'test_ref_y.csv'), header=None)\n",
    "val_x = val.iloc[:,1:]\n",
    "val_y = val.iloc[:,0]"
   ]
  },
  {
   "cell_type": "code",
   "execution_count": 8,
   "id": "double-three",
   "metadata": {},
   "outputs": [],
   "source": [
    "prediction_batches_test = [mlp_predictor.predict(batch) for batch in np.array_split(test_x, 100)]\n",
    "prediction_batches_val = [mlp_predictor.predict(batch) for batch in np.array_split(val_x, 100)]\n",
    "test_y_preds = np.concatenate([batch for batch in prediction_batches_test])\n",
    "val_y_preds = np.concatenate([batch for batch in prediction_batches_val])"
   ]
  },
  {
   "cell_type": "code",
   "execution_count": 9,
   "id": "tracked-illinois",
   "metadata": {},
   "outputs": [],
   "source": [
    "from sklearn.metrics import accuracy_score, f1_score\n",
    "accuracy_mlp_test = accuracy_score(test_y, test_y_preds)\n",
    "accuracy_mlp_val = accuracy_score(val_y, val_y_preds)\n",
    "f1_score_mlp_test = f1_score(test_y, test_y_preds, average=None)\n",
    "f1_score_mlp_val = f1_score(val_y, val_y_preds, average=None)"
   ]
  },
  {
   "cell_type": "code",
   "execution_count": 10,
   "id": "necessary-missile",
   "metadata": {},
   "outputs": [],
   "source": [
    "from utils import print_f1_scores\n",
    "cause_for_code_refinement = {0: 'Lightning', 1: 'Debris Burning', 2: 'Arson', 3: 'Miscellaneous', 4:'Missing/Undefined', 5: 'Other'}\n",
    "df_f1_score_mlp_test = print_f1_scores(f1_score_mlp_test, cause_for_code_refinement)\n",
    "df_f1_score_mlp_val = print_f1_scores(f1_score_mlp_val, cause_for_code_refinement)"
   ]
  },
  {
   "cell_type": "code",
   "execution_count": 11,
   "id": "devoted-exclusive",
   "metadata": {},
   "outputs": [
    {
     "name": "stdout",
     "output_type": "stream",
     "text": [
      "The accuracy for val set is: 0.4085368075137896\n",
      "The accuracy for test set is: 0.3815188588825619\n"
     ]
    }
   ],
   "source": [
    "print(f\"The accuracy for val set is: {accuracy_mlp_val}\")\n",
    "print(f\"The accuracy for test set is: {accuracy_mlp_test}\")"
   ]
  },
  {
   "cell_type": "code",
   "execution_count": 12,
   "id": "quiet-satellite",
   "metadata": {},
   "outputs": [
    {
     "data": {
      "text/html": [
       "<div>\n",
       "<style scoped>\n",
       "    .dataframe tbody tr th:only-of-type {\n",
       "        vertical-align: middle;\n",
       "    }\n",
       "\n",
       "    .dataframe tbody tr th {\n",
       "        vertical-align: top;\n",
       "    }\n",
       "\n",
       "    .dataframe thead th {\n",
       "        text-align: right;\n",
       "    }\n",
       "</style>\n",
       "<table border=\"1\" class=\"dataframe\">\n",
       "  <thead>\n",
       "    <tr style=\"text-align: right;\">\n",
       "      <th></th>\n",
       "      <th>Causes Description</th>\n",
       "      <th>F1 scores</th>\n",
       "    </tr>\n",
       "  </thead>\n",
       "  <tbody>\n",
       "    <tr>\n",
       "      <th>0</th>\n",
       "      <td>Lightning</td>\n",
       "      <td>0.579014</td>\n",
       "    </tr>\n",
       "    <tr>\n",
       "      <th>1</th>\n",
       "      <td>Debris Burning</td>\n",
       "      <td>0.483936</td>\n",
       "    </tr>\n",
       "    <tr>\n",
       "      <th>2</th>\n",
       "      <td>Arson</td>\n",
       "      <td>0.272922</td>\n",
       "    </tr>\n",
       "    <tr>\n",
       "      <th>3</th>\n",
       "      <td>Miscellaneous</td>\n",
       "      <td>0.300102</td>\n",
       "    </tr>\n",
       "    <tr>\n",
       "      <th>4</th>\n",
       "      <td>Missing/Undefined</td>\n",
       "      <td>0.089003</td>\n",
       "    </tr>\n",
       "    <tr>\n",
       "      <th>5</th>\n",
       "      <td>Other</td>\n",
       "      <td>0.262530</td>\n",
       "    </tr>\n",
       "  </tbody>\n",
       "</table>\n",
       "</div>"
      ],
      "text/plain": [
       "  Causes Description  F1 scores\n",
       "0          Lightning   0.579014\n",
       "1     Debris Burning   0.483936\n",
       "2              Arson   0.272922\n",
       "3      Miscellaneous   0.300102\n",
       "4  Missing/Undefined   0.089003\n",
       "5              Other   0.262530"
      ]
     },
     "execution_count": 12,
     "metadata": {},
     "output_type": "execute_result"
    }
   ],
   "source": [
    "df_f1_score_mlp_test"
   ]
  },
  {
   "cell_type": "code",
   "execution_count": 13,
   "id": "partial-melissa",
   "metadata": {},
   "outputs": [
    {
     "data": {
      "text/html": [
       "<div>\n",
       "<style scoped>\n",
       "    .dataframe tbody tr th:only-of-type {\n",
       "        vertical-align: middle;\n",
       "    }\n",
       "\n",
       "    .dataframe tbody tr th {\n",
       "        vertical-align: top;\n",
       "    }\n",
       "\n",
       "    .dataframe thead th {\n",
       "        text-align: right;\n",
       "    }\n",
       "</style>\n",
       "<table border=\"1\" class=\"dataframe\">\n",
       "  <thead>\n",
       "    <tr style=\"text-align: right;\">\n",
       "      <th></th>\n",
       "      <th>Causes Description</th>\n",
       "      <th>F1 scores</th>\n",
       "    </tr>\n",
       "  </thead>\n",
       "  <tbody>\n",
       "    <tr>\n",
       "      <th>0</th>\n",
       "      <td>Lightning</td>\n",
       "      <td>0.582622</td>\n",
       "    </tr>\n",
       "    <tr>\n",
       "      <th>1</th>\n",
       "      <td>Debris Burning</td>\n",
       "      <td>0.519680</td>\n",
       "    </tr>\n",
       "    <tr>\n",
       "      <th>2</th>\n",
       "      <td>Arson</td>\n",
       "      <td>0.364454</td>\n",
       "    </tr>\n",
       "    <tr>\n",
       "      <th>3</th>\n",
       "      <td>Miscellaneous</td>\n",
       "      <td>0.257893</td>\n",
       "    </tr>\n",
       "    <tr>\n",
       "      <th>4</th>\n",
       "      <td>Missing/Undefined</td>\n",
       "      <td>0.114709</td>\n",
       "    </tr>\n",
       "    <tr>\n",
       "      <th>5</th>\n",
       "      <td>Other</td>\n",
       "      <td>0.287345</td>\n",
       "    </tr>\n",
       "  </tbody>\n",
       "</table>\n",
       "</div>"
      ],
      "text/plain": [
       "  Causes Description  F1 scores\n",
       "0          Lightning   0.582622\n",
       "1     Debris Burning   0.519680\n",
       "2              Arson   0.364454\n",
       "3      Miscellaneous   0.257893\n",
       "4  Missing/Undefined   0.114709\n",
       "5              Other   0.287345"
      ]
     },
     "execution_count": 13,
     "metadata": {},
     "output_type": "execute_result"
    }
   ],
   "source": [
    "df_f1_score_mlp_val"
   ]
  },
  {
   "cell_type": "code",
   "execution_count": 13,
   "id": "resident-avenue",
   "metadata": {},
   "outputs": [],
   "source": [
    "mlp_predictor.delete_endpoint()"
   ]
  },
  {
   "cell_type": "code",
   "execution_count": null,
   "id": "loving-scoop",
   "metadata": {},
   "outputs": [],
   "source": []
  }
 ],
 "metadata": {
  "kernelspec": {
   "display_name": "conda_python3",
   "language": "python",
   "name": "conda_python3"
  },
  "language_info": {
   "codemirror_mode": {
    "name": "ipython",
    "version": 3
   },
   "file_extension": ".py",
   "mimetype": "text/x-python",
   "name": "python",
   "nbconvert_exporter": "python",
   "pygments_lexer": "ipython3",
   "version": "3.6.10"
  }
 },
 "nbformat": 4,
 "nbformat_minor": 5
}
