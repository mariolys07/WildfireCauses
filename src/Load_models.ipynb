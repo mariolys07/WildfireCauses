{
 "cells": [
  {
   "cell_type": "markdown",
   "id": "laughing-iceland",
   "metadata": {},
   "source": [
    "## Load all models"
   ]
  },
  {
   "cell_type": "code",
   "execution_count": 1,
   "id": "wrong-mambo",
   "metadata": {},
   "outputs": [
    {
     "name": "stdout",
     "output_type": "stream",
     "text": [
      "Requirement already satisfied: xgboost==0.90 in /home/ec2-user/anaconda3/envs/mxnet_p36/lib/python3.6/site-packages (0.90)\n",
      "Requirement already satisfied: numpy in /home/ec2-user/anaconda3/envs/mxnet_p36/lib/python3.6/site-packages (from xgboost==0.90) (1.19.5)\n",
      "Requirement already satisfied: scipy in /home/ec2-user/anaconda3/envs/mxnet_p36/lib/python3.6/site-packages (from xgboost==0.90) (1.4.1)\n",
      "\u001b[33mWARNING: You are using pip version 20.3.3; however, version 21.0.1 is available.\n",
      "You should consider upgrading via the '/home/ec2-user/anaconda3/envs/mxnet_p36/bin/python -m pip install --upgrade pip' command.\u001b[0m\n"
     ]
    }
   ],
   "source": [
    "!pip install xgboost==0.90"
   ]
  },
  {
   "cell_type": "code",
   "execution_count": 2,
   "id": "afraid-faculty",
   "metadata": {},
   "outputs": [],
   "source": [
    "from get_model import get_model_weights\n",
    "from sklearn.metrics import accuracy_score, plot_confusion_matrix, f1_score\n",
    "from utils import print_f1_scores\n",
    "import pandas as pd\n",
    "import os\n",
    "import numpy as np\n",
    "import xgboost\n",
    "import warnings\n",
    "warnings.filterwarnings('ignore')"
   ]
  },
  {
   "cell_type": "markdown",
   "id": "rapid-revolution",
   "metadata": {},
   "source": [
    "Loading the test set:"
   ]
  },
  {
   "cell_type": "code",
   "execution_count": 3,
   "id": "antique-alaska",
   "metadata": {},
   "outputs": [],
   "source": [
    "data_dir = 'wildfire_data'\n",
    "test_x = pd.read_csv(os.path.join(data_dir, 'test.csv'), header=None)\n",
    "test_y = pd.read_csv(os.path.join(data_dir, 'test_y.csv'), header=None)"
   ]
  },
  {
   "cell_type": "markdown",
   "id": "unlimited-productivity",
   "metadata": {},
   "source": [
    "Getting model location from bucket:"
   ]
  },
  {
   "cell_type": "code",
   "execution_count": 4,
   "id": "about-tutorial",
   "metadata": {},
   "outputs": [],
   "source": [
    "model_linear_data_path = \"s3://sagemaker-us-west-1-170667047098/wildfire/linear-learner-2021-02-07-06-54-15-448/output/model.tar.gz\"\n",
    "dest_linear = \"model_linear.tar.gz\"\n",
    "method_linear = 'mxnet'\n",
    "\n",
    "model_mlp_data_path = \"s3://sagemaker-us-west-1-170667047098/sagemaker-scikit-learn-2021-02-07-05-50-43-359/output/model.tar.gz\"\n",
    "dest_mlp = \"model_mlp.tar.gz\"\n",
    "method_mlp = 'joblib'\n",
    "\n",
    "model_xgb_data_path = \"s3://sagemaker-us-west-1-170667047098/wildfire/output/xgboost-210204-0337-003-5835143b/output/model.tar.gz\"\n",
    "dest_xgb = \"model_xgb.tar.gz\"\n",
    "method_xgb = 'pickle'"
   ]
  },
  {
   "cell_type": "code",
   "execution_count": 5,
   "id": "scientific-transcription",
   "metadata": {},
   "outputs": [],
   "source": [
    "models_info = [(model_linear_data_path, dest_linear, method_linear), \n",
    "              (model_mlp_data_path, dest_mlp, method_mlp), \n",
    "              (model_xgb_data_path, dest_xgb, method_xgb)]\n",
    "\n",
    "loaded_models = [get_model_weights(model_info[0], model_info[1], model_info[2]) for model_info in models_info]\n",
    "loaded_linear_model = loaded_models[0]\n",
    "loaded_mlp_model = loaded_models[1]\n",
    "loaded_xgb_model = loaded_models[2]"
   ]
  },
  {
   "cell_type": "markdown",
   "id": "leading-astrology",
   "metadata": {},
   "source": [
    "### Linear Learner results"
   ]
  },
  {
   "cell_type": "code",
   "execution_count": 27,
   "id": "built-situation",
   "metadata": {},
   "outputs": [
    {
     "ename": "AssertionError",
     "evalue": "",
     "output_type": "error",
     "traceback": [
      "\u001b[0;31m---------------------------------------------------------------------------\u001b[0m",
      "\u001b[0;31mAssertionError\u001b[0m                            Traceback (most recent call last)",
      "\u001b[0;32m<ipython-input-27-d3a18c513e8c>\u001b[0m in \u001b[0;36m<module>\u001b[0;34m\u001b[0m\n\u001b[1;32m      1\u001b[0m \u001b[0mtest_x_np\u001b[0m \u001b[0;34m=\u001b[0m \u001b[0mtest_x\u001b[0m\u001b[0;34m.\u001b[0m\u001b[0mvalues\u001b[0m\u001b[0;34m.\u001b[0m\u001b[0mastype\u001b[0m\u001b[0;34m(\u001b[0m\u001b[0;34m'float32'\u001b[0m\u001b[0;34m)\u001b[0m\u001b[0;34m\u001b[0m\u001b[0;34m\u001b[0m\u001b[0m\n\u001b[1;32m      2\u001b[0m \u001b[0mtest_y_np\u001b[0m \u001b[0;34m=\u001b[0m \u001b[0mtest_y\u001b[0m\u001b[0;34m.\u001b[0m\u001b[0mvalues\u001b[0m\u001b[0;34m.\u001b[0m\u001b[0mastype\u001b[0m\u001b[0;34m(\u001b[0m\u001b[0;34m'float32'\u001b[0m\u001b[0;34m)\u001b[0m\u001b[0;34m\u001b[0m\u001b[0;34m\u001b[0m\u001b[0m\n\u001b[0;32m----> 3\u001b[0;31m \u001b[0mresult\u001b[0m \u001b[0;34m=\u001b[0m \u001b[0mloaded_linear_model\u001b[0m\u001b[0;34m.\u001b[0m\u001b[0mpredict\u001b[0m\u001b[0;34m(\u001b[0m\u001b[0meval_data\u001b[0m\u001b[0;34m=\u001b[0m\u001b[0mtest_x_np\u001b[0m\u001b[0;34m)\u001b[0m\u001b[0;34m\u001b[0m\u001b[0;34m\u001b[0m\u001b[0m\n\u001b[0m\u001b[1;32m      4\u001b[0m \u001b[0;31m# prediction_batches = [loaded_linear_model.predict(batch) for batch in np.array_split(test_x_np, 100)]\u001b[0m\u001b[0;34m\u001b[0m\u001b[0;34m\u001b[0m\u001b[0;34m\u001b[0m\u001b[0m\n\u001b[1;32m      5\u001b[0m \u001b[0;31m# test_y_preds = np.concatenate([np.array([x.label['predicted_label'].float32_tensor.values[0] for x in batch])\u001b[0m\u001b[0;34m\u001b[0m\u001b[0;34m\u001b[0m\u001b[0;34m\u001b[0m\u001b[0m\n",
      "\u001b[0;32m~/anaconda3/envs/mxnet_p36/lib/python3.6/site-packages/mxnet/module/base_module.py\u001b[0m in \u001b[0;36mpredict\u001b[0;34m(self, eval_data, num_batch, merge_batches, reset, always_output_list, sparse_row_id_fn)\u001b[0m\n\u001b[1;32m    363\u001b[0m         \u001b[0;34m>>\u001b[0m\u001b[0;34m>\u001b[0m \u001b[0mmod\u001b[0m\u001b[0;34m.\u001b[0m\u001b[0mpredict\u001b[0m\u001b[0;34m(\u001b[0m\u001b[0meval_data\u001b[0m\u001b[0;34m=\u001b[0m\u001b[0mval_dataiter\u001b[0m\u001b[0;34m,\u001b[0m \u001b[0mnum_batch\u001b[0m\u001b[0;34m=\u001b[0m\u001b[0;36m10\u001b[0m\u001b[0;34m)\u001b[0m\u001b[0;34m\u001b[0m\u001b[0;34m\u001b[0m\u001b[0m\n\u001b[1;32m    364\u001b[0m         \"\"\"\n\u001b[0;32m--> 365\u001b[0;31m         \u001b[0;32massert\u001b[0m \u001b[0mself\u001b[0m\u001b[0;34m.\u001b[0m\u001b[0mbinded\u001b[0m \u001b[0;32mand\u001b[0m \u001b[0mself\u001b[0m\u001b[0;34m.\u001b[0m\u001b[0mparams_initialized\u001b[0m\u001b[0;34m\u001b[0m\u001b[0;34m\u001b[0m\u001b[0m\n\u001b[0m\u001b[1;32m    366\u001b[0m \u001b[0;34m\u001b[0m\u001b[0m\n\u001b[1;32m    367\u001b[0m         \u001b[0;32mif\u001b[0m \u001b[0misinstance\u001b[0m\u001b[0;34m(\u001b[0m\u001b[0meval_data\u001b[0m\u001b[0;34m,\u001b[0m \u001b[0;34m(\u001b[0m\u001b[0mndarray\u001b[0m\u001b[0;34m.\u001b[0m\u001b[0mNDArray\u001b[0m\u001b[0;34m,\u001b[0m \u001b[0mnp\u001b[0m\u001b[0;34m.\u001b[0m\u001b[0mndarray\u001b[0m\u001b[0;34m)\u001b[0m\u001b[0;34m)\u001b[0m\u001b[0;34m:\u001b[0m\u001b[0;34m\u001b[0m\u001b[0;34m\u001b[0m\u001b[0m\n",
      "\u001b[0;31mAssertionError\u001b[0m: "
     ]
    }
   ],
   "source": [
    "# test_x_np = test_x.values.astype('float32')\n",
    "# test_y_np = test_y.values.astype('float32')\n",
    "# result = loaded_linear_model.predict(eval_data=test_x_np)\n",
    "# prediction_batches = [loaded_linear_model.predict(batch) for batch in np.array_split(test_x_np, 100)]\n",
    "# test_y_preds = np.concatenate([np.array([x.label['predicted_label'].float32_tensor.values[0] for x in batch]) \n",
    "#                                  for batch in prediction_batches])\n",
    "# accuracy_linear = accuracy_score(test_y_np, test_y_preds)\n",
    "# f1_score_linear = f1_score(test_y_np, test_y_preds, average=None)\n",
    "# df_f1_score_linear = print_f1_scores(f1_score_linear)\n",
    "# print(f\"Accuracy for Linear Learner model is {accuracy_linear}\")\n",
    "# df_f1_score_linear"
   ]
  },
  {
   "cell_type": "markdown",
   "id": "prepared-wyoming",
   "metadata": {},
   "source": [
    "### XGBoost results"
   ]
  },
  {
   "cell_type": "code",
   "execution_count": 21,
   "id": "starting-constitutional",
   "metadata": {},
   "outputs": [
    {
     "ename": "ValueError",
     "evalue": "feature_names mismatch: ['f0', 'f1', 'f2', 'f3', 'f4', 'f5', 'f6', 'f7', 'f8', 'f9', 'f10', 'f11', 'f12', 'f13', 'f14', 'f15', 'f16', 'f17', 'f18', 'f19', 'f20', 'f21', 'f22', 'f23', 'f24', 'f25', 'f26', 'f27', 'f28', 'f29', 'f30', 'f31', 'f32', 'f33', 'f34', 'f35', 'f36', 'f37', 'f38', 'f39', 'f40', 'f41', 'f42', 'f43', 'f44', 'f45', 'f46', 'f47', 'f48', 'f49', 'f50', 'f51', 'f52', 'f53', 'f54', 'f55', 'f56', 'f57'] ['0 ', '1 ', '2 ', '3 ', '4 ', '5 ', '6 ', '7 ', '8 ', '9 ', '10', '11', '12', '13', '14', '15', '16', '17', '18', '19', '20', '21', '22', '23', '24', '25', '26', '27', '28', '29', '30', '31', '32', '33', '34', '35', '36', '37', '38', '39', '40', '41', '42', '43', '44', '45', '46', '47', '48', '49', '50', '51', '52', '53', '54', '55', '56', '57']\nexpected f57, f12, f25, f40, f41, f19, f16, f53, f37, f3, f44, f55, f18, f56, f49, f4, f43, f17, f26, f22, f51, f21, f2, f23, f27, f28, f54, f52, f10, f11, f15, f20, f45, f6, f34, f48, f5, f35, f31, f36, f47, f0, f14, f29, f46, f1, f30, f42, f7, f50, f8, f13, f32, f39, f9, f38, f24, f33 in input data\ntraining data did not have the following fields: 8 , 16, 22, 56, 44, 34, 37, 1 , 18, 57, 39, 46, 52, 45, 33, 31, 13, 40, 23, 21, 51, 30, 54, 20, 5 , 12, 15, 11, 25, 19, 29, 4 , 2 , 43, 27, 42, 53, 9 , 55, 47, 48, 10, 17, 41, 32, 38, 7 , 3 , 0 , 14, 26, 35, 6 , 24, 50, 28, 36, 49",
     "output_type": "error",
     "traceback": [
      "\u001b[0;31m---------------------------------------------------------------------------\u001b[0m",
      "\u001b[0;31mValueError\u001b[0m                                Traceback (most recent call last)",
      "\u001b[0;32m<ipython-input-21-617c152cca96>\u001b[0m in \u001b[0;36m<module>\u001b[0;34m\u001b[0m\n\u001b[1;32m      3\u001b[0m \u001b[0;31m# print(len(test_y))\u001b[0m\u001b[0;34m\u001b[0m\u001b[0;34m\u001b[0m\u001b[0;34m\u001b[0m\u001b[0m\n\u001b[1;32m      4\u001b[0m \u001b[0;32mimport\u001b[0m \u001b[0mxgboost\u001b[0m\u001b[0;34m\u001b[0m\u001b[0;34m\u001b[0m\u001b[0m\n\u001b[0;32m----> 5\u001b[0;31m \u001b[0mtest_y_preds\u001b[0m \u001b[0;34m=\u001b[0m \u001b[0mloaded_xgb_model\u001b[0m\u001b[0;34m.\u001b[0m\u001b[0mpredict\u001b[0m\u001b[0;34m(\u001b[0m\u001b[0mxgboost\u001b[0m\u001b[0;34m.\u001b[0m\u001b[0mDMatrix\u001b[0m\u001b[0;34m(\u001b[0m\u001b[0mtest_x\u001b[0m\u001b[0;34m)\u001b[0m\u001b[0;34m)\u001b[0m\u001b[0;34m\u001b[0m\u001b[0;34m\u001b[0m\u001b[0m\n\u001b[0m\u001b[1;32m      6\u001b[0m \u001b[0;31m# test_y_preds = [round(num) for num in predictions.squeeze().values]\u001b[0m\u001b[0;34m\u001b[0m\u001b[0;34m\u001b[0m\u001b[0;34m\u001b[0m\u001b[0m\n\u001b[1;32m      7\u001b[0m \u001b[0maccuracy_xgb\u001b[0m \u001b[0;34m=\u001b[0m \u001b[0maccuracy_score\u001b[0m\u001b[0;34m(\u001b[0m\u001b[0mtest_y\u001b[0m\u001b[0;34m,\u001b[0m \u001b[0mtest_y_preds\u001b[0m\u001b[0;34m)\u001b[0m\u001b[0;34m\u001b[0m\u001b[0;34m\u001b[0m\u001b[0m\n",
      "\u001b[0;32m~/anaconda3/envs/mxnet_p36/lib/python3.6/site-packages/xgboost/core.py\u001b[0m in \u001b[0;36mpredict\u001b[0;34m(self, data, output_margin, ntree_limit, pred_leaf, pred_contribs, approx_contribs, pred_interactions, validate_features)\u001b[0m\n\u001b[1;32m   1282\u001b[0m \u001b[0;34m\u001b[0m\u001b[0m\n\u001b[1;32m   1283\u001b[0m         \u001b[0;32mif\u001b[0m \u001b[0mvalidate_features\u001b[0m\u001b[0;34m:\u001b[0m\u001b[0;34m\u001b[0m\u001b[0;34m\u001b[0m\u001b[0m\n\u001b[0;32m-> 1284\u001b[0;31m             \u001b[0mself\u001b[0m\u001b[0;34m.\u001b[0m\u001b[0m_validate_features\u001b[0m\u001b[0;34m(\u001b[0m\u001b[0mdata\u001b[0m\u001b[0;34m)\u001b[0m\u001b[0;34m\u001b[0m\u001b[0;34m\u001b[0m\u001b[0m\n\u001b[0m\u001b[1;32m   1285\u001b[0m \u001b[0;34m\u001b[0m\u001b[0m\n\u001b[1;32m   1286\u001b[0m         \u001b[0mlength\u001b[0m \u001b[0;34m=\u001b[0m \u001b[0mc_bst_ulong\u001b[0m\u001b[0;34m(\u001b[0m\u001b[0;34m)\u001b[0m\u001b[0;34m\u001b[0m\u001b[0;34m\u001b[0m\u001b[0m\n",
      "\u001b[0;32m~/anaconda3/envs/mxnet_p36/lib/python3.6/site-packages/xgboost/core.py\u001b[0m in \u001b[0;36m_validate_features\u001b[0;34m(self, data)\u001b[0m\n\u001b[1;32m   1688\u001b[0m \u001b[0;34m\u001b[0m\u001b[0m\n\u001b[1;32m   1689\u001b[0m                 raise ValueError(msg.format(self.feature_names,\n\u001b[0;32m-> 1690\u001b[0;31m                                             data.feature_names))\n\u001b[0m\u001b[1;32m   1691\u001b[0m \u001b[0;34m\u001b[0m\u001b[0m\n\u001b[1;32m   1692\u001b[0m     \u001b[0;32mdef\u001b[0m \u001b[0mget_split_value_histogram\u001b[0m\u001b[0;34m(\u001b[0m\u001b[0mself\u001b[0m\u001b[0;34m,\u001b[0m \u001b[0mfeature\u001b[0m\u001b[0;34m,\u001b[0m \u001b[0mfmap\u001b[0m\u001b[0;34m=\u001b[0m\u001b[0;34m''\u001b[0m\u001b[0;34m,\u001b[0m \u001b[0mbins\u001b[0m\u001b[0;34m=\u001b[0m\u001b[0;32mNone\u001b[0m\u001b[0;34m,\u001b[0m \u001b[0mas_pandas\u001b[0m\u001b[0;34m=\u001b[0m\u001b[0;32mTrue\u001b[0m\u001b[0;34m)\u001b[0m\u001b[0;34m:\u001b[0m\u001b[0;34m\u001b[0m\u001b[0;34m\u001b[0m\u001b[0m\n",
      "\u001b[0;31mValueError\u001b[0m: feature_names mismatch: ['f0', 'f1', 'f2', 'f3', 'f4', 'f5', 'f6', 'f7', 'f8', 'f9', 'f10', 'f11', 'f12', 'f13', 'f14', 'f15', 'f16', 'f17', 'f18', 'f19', 'f20', 'f21', 'f22', 'f23', 'f24', 'f25', 'f26', 'f27', 'f28', 'f29', 'f30', 'f31', 'f32', 'f33', 'f34', 'f35', 'f36', 'f37', 'f38', 'f39', 'f40', 'f41', 'f42', 'f43', 'f44', 'f45', 'f46', 'f47', 'f48', 'f49', 'f50', 'f51', 'f52', 'f53', 'f54', 'f55', 'f56', 'f57'] ['0 ', '1 ', '2 ', '3 ', '4 ', '5 ', '6 ', '7 ', '8 ', '9 ', '10', '11', '12', '13', '14', '15', '16', '17', '18', '19', '20', '21', '22', '23', '24', '25', '26', '27', '28', '29', '30', '31', '32', '33', '34', '35', '36', '37', '38', '39', '40', '41', '42', '43', '44', '45', '46', '47', '48', '49', '50', '51', '52', '53', '54', '55', '56', '57']\nexpected f57, f12, f25, f40, f41, f19, f16, f53, f37, f3, f44, f55, f18, f56, f49, f4, f43, f17, f26, f22, f51, f21, f2, f23, f27, f28, f54, f52, f10, f11, f15, f20, f45, f6, f34, f48, f5, f35, f31, f36, f47, f0, f14, f29, f46, f1, f30, f42, f7, f50, f8, f13, f32, f39, f9, f38, f24, f33 in input data\ntraining data did not have the following fields: 8 , 16, 22, 56, 44, 34, 37, 1 , 18, 57, 39, 46, 52, 45, 33, 31, 13, 40, 23, 21, 51, 30, 54, 20, 5 , 12, 15, 11, 25, 19, 29, 4 , 2 , 43, 27, 42, 53, 9 , 55, 47, 48, 10, 17, 41, 32, 38, 7 , 3 , 0 , 14, 26, 35, 6 , 24, 50, 28, 36, 49"
     ]
    }
   ],
   "source": [
    "# predictions = pd.read_csv(os.path.join(data_dir, 'test.csv.out'), header=None)\n",
    "# print(len(predictions))\n",
    "# print(len(test_y))\n",
    "\n",
    "# test_y_preds = loaded_xgb_model.predict(xgboost.DMatrix(test_x))\n",
    "# # test_y_preds = [round(num) for num in predictions.squeeze().values]\n",
    "# accuracy_xgb = accuracy_score(test_y, test_y_preds)\n",
    "# f1_score_xgb = f1_score(test_y, test_y_preds, average=None)\n",
    "# df_f1_score_xgb = print_f1_scores(f1_score_xgb)\n",
    "# print(f\"Accuracy for XGBoost model is {accuracy_xgb}\")\n",
    "# df_f1_score_xgb"
   ]
  },
  {
   "cell_type": "markdown",
   "id": "aerial-interest",
   "metadata": {},
   "source": [
    "### MLP Model results "
   ]
  },
  {
   "cell_type": "code",
   "execution_count": 6,
   "id": "occupied-pressure",
   "metadata": {},
   "outputs": [
    {
     "name": "stdout",
     "output_type": "stream",
     "text": [
      "Accuracy for MLP model is 0.3894401533517506\n"
     ]
    },
    {
     "data": {
      "text/html": [
       "<div>\n",
       "<style scoped>\n",
       "    .dataframe tbody tr th:only-of-type {\n",
       "        vertical-align: middle;\n",
       "    }\n",
       "\n",
       "    .dataframe tbody tr th {\n",
       "        vertical-align: top;\n",
       "    }\n",
       "\n",
       "    .dataframe thead th {\n",
       "        text-align: right;\n",
       "    }\n",
       "</style>\n",
       "<table border=\"1\" class=\"dataframe\">\n",
       "  <thead>\n",
       "    <tr style=\"text-align: right;\">\n",
       "      <th></th>\n",
       "      <th>Causes Description</th>\n",
       "      <th>F1 scores</th>\n",
       "    </tr>\n",
       "  </thead>\n",
       "  <tbody>\n",
       "    <tr>\n",
       "      <th>0</th>\n",
       "      <td>Lightning</td>\n",
       "      <td>0.589392</td>\n",
       "    </tr>\n",
       "    <tr>\n",
       "      <th>1</th>\n",
       "      <td>Equipment Use</td>\n",
       "      <td>0.035791</td>\n",
       "    </tr>\n",
       "    <tr>\n",
       "      <th>2</th>\n",
       "      <td>Smoking</td>\n",
       "      <td>0.000000</td>\n",
       "    </tr>\n",
       "    <tr>\n",
       "      <th>3</th>\n",
       "      <td>Campfire</td>\n",
       "      <td>0.082728</td>\n",
       "    </tr>\n",
       "    <tr>\n",
       "      <th>4</th>\n",
       "      <td>Debris Burning</td>\n",
       "      <td>0.519612</td>\n",
       "    </tr>\n",
       "    <tr>\n",
       "      <th>5</th>\n",
       "      <td>Railroad</td>\n",
       "      <td>0.000000</td>\n",
       "    </tr>\n",
       "    <tr>\n",
       "      <th>6</th>\n",
       "      <td>Arson</td>\n",
       "      <td>0.278129</td>\n",
       "    </tr>\n",
       "    <tr>\n",
       "      <th>7</th>\n",
       "      <td>Children</td>\n",
       "      <td>0.129730</td>\n",
       "    </tr>\n",
       "    <tr>\n",
       "      <th>8</th>\n",
       "      <td>Miscellaneous</td>\n",
       "      <td>0.391088</td>\n",
       "    </tr>\n",
       "    <tr>\n",
       "      <th>9</th>\n",
       "      <td>Fireworks</td>\n",
       "      <td>0.273736</td>\n",
       "    </tr>\n",
       "    <tr>\n",
       "      <th>10</th>\n",
       "      <td>Powerline</td>\n",
       "      <td>0.000000</td>\n",
       "    </tr>\n",
       "    <tr>\n",
       "      <th>11</th>\n",
       "      <td>Structure</td>\n",
       "      <td>0.000000</td>\n",
       "    </tr>\n",
       "    <tr>\n",
       "      <th>12</th>\n",
       "      <td>Missing/Undefined</td>\n",
       "      <td>0.121680</td>\n",
       "    </tr>\n",
       "  </tbody>\n",
       "</table>\n",
       "</div>"
      ],
      "text/plain": [
       "   Causes Description  F1 scores\n",
       "0           Lightning   0.589392\n",
       "1       Equipment Use   0.035791\n",
       "2             Smoking   0.000000\n",
       "3            Campfire   0.082728\n",
       "4      Debris Burning   0.519612\n",
       "5            Railroad   0.000000\n",
       "6               Arson   0.278129\n",
       "7            Children   0.129730\n",
       "8       Miscellaneous   0.391088\n",
       "9           Fireworks   0.273736\n",
       "10          Powerline   0.000000\n",
       "11          Structure   0.000000\n",
       "12  Missing/Undefined   0.121680"
      ]
     },
     "execution_count": 6,
     "metadata": {},
     "output_type": "execute_result"
    }
   ],
   "source": [
    "prediction_batches = [loaded_mlp_model.predict(batch) for batch in np.array_split(test_x, 100)]\n",
    "test_y_preds = np.concatenate([batch for batch in prediction_batches])\n",
    "accuracy_mlp = accuracy_score(test_y, test_y_preds)\n",
    "f1_score_mlp = f1_score(test_y, test_y_preds, average=None)\n",
    "df_f1_score_mlp = print_f1_scores(f1_score_mlp)\n",
    "print(f\"Accuracy for MLP model is {accuracy_mlp}\")\n",
    "df_f1_score_mlp"
   ]
  },
  {
   "cell_type": "code",
   "execution_count": null,
   "id": "residential-calculator",
   "metadata": {},
   "outputs": [],
   "source": [
    "\n",
    "# plot_confusion_matrix(xgb_transformer, test_y, predictions)"
   ]
  },
  {
   "cell_type": "markdown",
   "id": "random-netherlands",
   "metadata": {},
   "source": [
    "## Interpretability Results"
   ]
  },
  {
   "cell_type": "code",
   "execution_count": null,
   "id": "right-credits",
   "metadata": {},
   "outputs": [],
   "source": []
  }
 ],
 "metadata": {
  "kernelspec": {
   "display_name": "conda_mxnet_p36",
   "language": "python",
   "name": "conda_mxnet_p36"
  },
  "language_info": {
   "codemirror_mode": {
    "name": "ipython",
    "version": 3
   },
   "file_extension": ".py",
   "mimetype": "text/x-python",
   "name": "python",
   "nbconvert_exporter": "python",
   "pygments_lexer": "ipython3",
   "version": "3.6.10"
  }
 },
 "nbformat": 4,
 "nbformat_minor": 5
}
