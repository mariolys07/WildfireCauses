{
 "cells": [
  {
   "cell_type": "markdown",
   "metadata": {},
   "source": [
    "# MLP Model"
   ]
  },
  {
   "cell_type": "code",
   "execution_count": 1,
   "metadata": {},
   "outputs": [],
   "source": [
    "import pandas as pd\n",
    "import numpy as np\n",
    "import sagemaker\n",
    "import os\n",
    "from utils import standardize_data\n",
    "from sagemaker import LinearLearner\n",
    "from sagemaker import get_execution_role\n",
    "from sklearn.metrics import plot_confusion_matrix\n",
    "\n",
    "# specify an output path\n",
    "prefix = 'wildfire'\n",
    "data_dir = 'wildfire_data'\n",
    "sagemaker_session = sagemaker.Session()\n",
    "bucket = sagemaker_session.default_bucket()\n",
    "output_path = 's3://{}/{}'.format(bucket, prefix)\n",
    "role = get_execution_role()"
   ]
  },
  {
   "cell_type": "code",
   "execution_count": 5,
   "metadata": {},
   "outputs": [
    {
     "name": "stderr",
     "output_type": "stream",
     "text": [
      "train_instance_type has been renamed in sagemaker>=2.\n",
      "See: https://sagemaker.readthedocs.io/en/stable/v2.html for details.\n",
      "train_instance_count has been renamed in sagemaker>=2.\n",
      "See: https://sagemaker.readthedocs.io/en/stable/v2.html for details.\n",
      "train_instance_count has been renamed in sagemaker>=2.\n",
      "See: https://sagemaker.readthedocs.io/en/stable/v2.html for details.\n",
      "train_instance_type has been renamed in sagemaker>=2.\n",
      "See: https://sagemaker.readthedocs.io/en/stable/v2.html for details.\n"
     ]
    }
   ],
   "source": [
    "from sagemaker.sklearn.estimator import SKLearn\n",
    "\n",
    "sklearn_mlp = SKLearn(entry_point='train_mlp.py', \n",
    "                 source_dir='source_sklearn',\n",
    "                 role=role,\n",
    "                 train_instance_count=1,\n",
    "                 train_instance_type='ml.c4.xlarge',\n",
    "                 sagemaker_session=sagemaker_session,\n",
    "                 py_version='py3',\n",
    "                 framework_version='0.23-1')"
   ]
  },
  {
   "cell_type": "code",
   "execution_count": 6,
   "metadata": {
    "scrolled": true
   },
   "outputs": [
    {
     "name": "stdout",
     "output_type": "stream",
     "text": [
      "2021-02-07 05:50:43 Starting - Starting the training job...\n",
      "2021-02-07 05:50:47 Starting - Launching requested ML instancesProfilerReport-1612677043: InProgress\n",
      "......\n",
      "2021-02-07 05:51:57 Starting - Preparing the instances for training......\n",
      "2021-02-07 05:53:03 Downloading - Downloading input data...\n",
      "2021-02-07 05:53:44 Training - Training image download completed. Training in progress..\u001b[34m2021-02-07 05:53:34,815 sagemaker-containers INFO     Imported framework sagemaker_sklearn_container.training\u001b[0m\n",
      "\u001b[34m2021-02-07 05:53:34,817 sagemaker-training-toolkit INFO     No GPUs detected (normal if no gpus installed)\u001b[0m\n",
      "\u001b[34m2021-02-07 05:53:34,826 sagemaker_sklearn_container.training INFO     Invoking user training script.\u001b[0m\n",
      "\u001b[34m2021-02-07 05:53:35,147 sagemaker-training-toolkit INFO     No GPUs detected (normal if no gpus installed)\u001b[0m\n",
      "\u001b[34m2021-02-07 05:53:35,814 sagemaker-training-toolkit INFO     No GPUs detected (normal if no gpus installed)\u001b[0m\n",
      "\u001b[34m2021-02-07 05:53:35,827 sagemaker-training-toolkit INFO     No GPUs detected (normal if no gpus installed)\u001b[0m\n",
      "\u001b[34m2021-02-07 05:53:35,837 sagemaker-training-toolkit INFO     Invoking user script\n",
      "\u001b[0m\n",
      "\u001b[34mTraining Env:\n",
      "\u001b[0m\n",
      "\u001b[34m{\n",
      "    \"additional_framework_parameters\": {},\n",
      "    \"channel_input_dirs\": {\n",
      "        \"train\": \"/opt/ml/input/data/train\"\n",
      "    },\n",
      "    \"current_host\": \"algo-1\",\n",
      "    \"framework_module\": \"sagemaker_sklearn_container.training:main\",\n",
      "    \"hosts\": [\n",
      "        \"algo-1\"\n",
      "    ],\n",
      "    \"hyperparameters\": {},\n",
      "    \"input_config_dir\": \"/opt/ml/input/config\",\n",
      "    \"input_data_config\": {\n",
      "        \"train\": {\n",
      "            \"TrainingInputMode\": \"File\",\n",
      "            \"S3DistributionType\": \"FullyReplicated\",\n",
      "            \"RecordWrapperType\": \"None\"\n",
      "        }\n",
      "    },\n",
      "    \"input_dir\": \"/opt/ml/input\",\n",
      "    \"is_master\": true,\n",
      "    \"job_name\": \"sagemaker-scikit-learn-2021-02-07-05-50-43-359\",\n",
      "    \"log_level\": 20,\n",
      "    \"master_hostname\": \"algo-1\",\n",
      "    \"model_dir\": \"/opt/ml/model\",\n",
      "    \"module_dir\": \"s3://sagemaker-us-west-1-170667047098/sagemaker-scikit-learn-2021-02-07-05-50-43-359/source/sourcedir.tar.gz\",\n",
      "    \"module_name\": \"train_mlp\",\n",
      "    \"network_interface_name\": \"eth0\",\n",
      "    \"num_cpus\": 4,\n",
      "    \"num_gpus\": 0,\n",
      "    \"output_data_dir\": \"/opt/ml/output/data\",\n",
      "    \"output_dir\": \"/opt/ml/output\",\n",
      "    \"output_intermediate_dir\": \"/opt/ml/output/intermediate\",\n",
      "    \"resource_config\": {\n",
      "        \"current_host\": \"algo-1\",\n",
      "        \"hosts\": [\n",
      "            \"algo-1\"\n",
      "        ],\n",
      "        \"network_interface_name\": \"eth0\"\n",
      "    },\n",
      "    \"user_entry_point\": \"train_mlp.py\"\u001b[0m\n",
      "\u001b[34m}\n",
      "\u001b[0m\n",
      "\u001b[34mEnvironment variables:\n",
      "\u001b[0m\n",
      "\u001b[34mSM_HOSTS=[\"algo-1\"]\u001b[0m\n",
      "\u001b[34mSM_NETWORK_INTERFACE_NAME=eth0\u001b[0m\n",
      "\u001b[34mSM_HPS={}\u001b[0m\n",
      "\u001b[34mSM_USER_ENTRY_POINT=train_mlp.py\u001b[0m\n",
      "\u001b[34mSM_FRAMEWORK_PARAMS={}\u001b[0m\n",
      "\u001b[34mSM_RESOURCE_CONFIG={\"current_host\":\"algo-1\",\"hosts\":[\"algo-1\"],\"network_interface_name\":\"eth0\"}\u001b[0m\n",
      "\u001b[34mSM_INPUT_DATA_CONFIG={\"train\":{\"RecordWrapperType\":\"None\",\"S3DistributionType\":\"FullyReplicated\",\"TrainingInputMode\":\"File\"}}\u001b[0m\n",
      "\u001b[34mSM_OUTPUT_DATA_DIR=/opt/ml/output/data\u001b[0m\n",
      "\u001b[34mSM_CHANNELS=[\"train\"]\u001b[0m\n",
      "\u001b[34mSM_CURRENT_HOST=algo-1\u001b[0m\n",
      "\u001b[34mSM_MODULE_NAME=train_mlp\u001b[0m\n",
      "\u001b[34mSM_LOG_LEVEL=20\u001b[0m\n",
      "\u001b[34mSM_FRAMEWORK_MODULE=sagemaker_sklearn_container.training:main\u001b[0m\n",
      "\u001b[34mSM_INPUT_DIR=/opt/ml/input\u001b[0m\n",
      "\u001b[34mSM_INPUT_CONFIG_DIR=/opt/ml/input/config\u001b[0m\n",
      "\u001b[34mSM_OUTPUT_DIR=/opt/ml/output\u001b[0m\n",
      "\u001b[34mSM_NUM_CPUS=4\u001b[0m\n",
      "\u001b[34mSM_NUM_GPUS=0\u001b[0m\n",
      "\u001b[34mSM_MODEL_DIR=/opt/ml/model\u001b[0m\n",
      "\u001b[34mSM_MODULE_DIR=s3://sagemaker-us-west-1-170667047098/sagemaker-scikit-learn-2021-02-07-05-50-43-359/source/sourcedir.tar.gz\u001b[0m\n",
      "\u001b[34mSM_TRAINING_ENV={\"additional_framework_parameters\":{},\"channel_input_dirs\":{\"train\":\"/opt/ml/input/data/train\"},\"current_host\":\"algo-1\",\"framework_module\":\"sagemaker_sklearn_container.training:main\",\"hosts\":[\"algo-1\"],\"hyperparameters\":{},\"input_config_dir\":\"/opt/ml/input/config\",\"input_data_config\":{\"train\":{\"RecordWrapperType\":\"None\",\"S3DistributionType\":\"FullyReplicated\",\"TrainingInputMode\":\"File\"}},\"input_dir\":\"/opt/ml/input\",\"is_master\":true,\"job_name\":\"sagemaker-scikit-learn-2021-02-07-05-50-43-359\",\"log_level\":20,\"master_hostname\":\"algo-1\",\"model_dir\":\"/opt/ml/model\",\"module_dir\":\"s3://sagemaker-us-west-1-170667047098/sagemaker-scikit-learn-2021-02-07-05-50-43-359/source/sourcedir.tar.gz\",\"module_name\":\"train_mlp\",\"network_interface_name\":\"eth0\",\"num_cpus\":4,\"num_gpus\":0,\"output_data_dir\":\"/opt/ml/output/data\",\"output_dir\":\"/opt/ml/output\",\"output_intermediate_dir\":\"/opt/ml/output/intermediate\",\"resource_config\":{\"current_host\":\"algo-1\",\"hosts\":[\"algo-1\"],\"network_interface_name\":\"eth0\"},\"user_entry_point\":\"train_mlp.py\"}\u001b[0m\n",
      "\u001b[34mSM_USER_ARGS=[]\u001b[0m\n",
      "\u001b[34mSM_OUTPUT_INTERMEDIATE_DIR=/opt/ml/output/intermediate\u001b[0m\n",
      "\u001b[34mSM_CHANNEL_TRAIN=/opt/ml/input/data/train\u001b[0m\n",
      "\u001b[34mPYTHONPATH=/opt/ml/code:/miniconda3/bin:/miniconda3/lib/python37.zip:/miniconda3/lib/python3.7:/miniconda3/lib/python3.7/lib-dynload:/miniconda3/lib/python3.7/site-packages\n",
      "\u001b[0m\n",
      "\u001b[34mInvoking script with the following command:\n",
      "\u001b[0m\n",
      "\u001b[34m/miniconda3/bin/python train_mlp.py\n",
      "\n",
      "\u001b[0m\n",
      "\u001b[34mIteration 1, loss = 1.55056300\u001b[0m\n",
      "\u001b[34mIteration 2, loss = 1.53049706\u001b[0m\n",
      "\u001b[34mIteration 3, loss = 1.52761060\u001b[0m\n",
      "\u001b[34mIteration 4, loss = 1.52550033\u001b[0m\n",
      "\u001b[34mIteration 5, loss = 1.52463942\u001b[0m\n",
      "\u001b[34mIteration 6, loss = 1.52407637\u001b[0m\n",
      "\u001b[34mIteration 7, loss = 1.52325734\u001b[0m\n",
      "\u001b[34mIteration 8, loss = 1.52287125\u001b[0m\n",
      "\u001b[34mIteration 9, loss = 1.52245177\u001b[0m\n",
      "\u001b[34mIteration 10, loss = 1.52215090\u001b[0m\n",
      "\u001b[34mIteration 11, loss = 1.52186674\u001b[0m\n",
      "\u001b[34mIteration 12, loss = 1.52181105\u001b[0m\n",
      "\u001b[34mIteration 13, loss = 1.52165783\u001b[0m\n",
      "\u001b[34mIteration 14, loss = 1.52146270\u001b[0m\n",
      "\u001b[34mIteration 15, loss = 1.52141036\u001b[0m\n",
      "\u001b[34mIteration 16, loss = 1.52119497\u001b[0m\n",
      "\u001b[34mIteration 17, loss = 1.52110572\u001b[0m\n",
      "\u001b[34mIteration 18, loss = 1.52083330\u001b[0m\n",
      "\u001b[34mIteration 19, loss = 1.52083244\u001b[0m\n",
      "\u001b[34mIteration 20, loss = 1.52042930\u001b[0m\n",
      "\u001b[34mIteration 21, loss = 1.52052107\u001b[0m\n",
      "\u001b[34mIteration 22, loss = 1.52036196\u001b[0m\n",
      "\u001b[34mIteration 23, loss = 1.52044346\u001b[0m\n",
      "\u001b[34mIteration 24, loss = 1.52029119\u001b[0m\n",
      "\u001b[34mIteration 25, loss = 1.52019892\u001b[0m\n",
      "\u001b[34mIteration 26, loss = 1.52021482\u001b[0m\n",
      "\u001b[34mIteration 27, loss = 1.52019850\u001b[0m\n",
      "\u001b[34mIteration 28, loss = 1.52002629\u001b[0m\n",
      "\u001b[34mIteration 29, loss = 1.51995588\u001b[0m\n",
      "\u001b[34mIteration 30, loss = 1.51995419\u001b[0m\n",
      "\u001b[34mIteration 31, loss = 1.51984711\u001b[0m\n",
      "\u001b[34mIteration 32, loss = 1.51967239\u001b[0m\n",
      "\u001b[34mIteration 33, loss = 1.51974940\u001b[0m\n",
      "\u001b[34mIteration 34, loss = 1.51980201\u001b[0m\n",
      "\u001b[34mIteration 35, loss = 1.51946982\u001b[0m\n",
      "\u001b[34mIteration 36, loss = 1.51931044\u001b[0m\n",
      "\u001b[34mIteration 37, loss = 1.51931483\u001b[0m\n",
      "\u001b[34mIteration 38, loss = 1.51917604\u001b[0m\n",
      "\u001b[34mIteration 39, loss = 1.51906447\u001b[0m\n",
      "\u001b[34mIteration 40, loss = 1.51905205\u001b[0m\n",
      "\u001b[34mIteration 41, loss = 1.51882848\u001b[0m\n",
      "\u001b[34mIteration 42, loss = 1.51860142\u001b[0m\n",
      "\u001b[34mIteration 43, loss = 1.51828919\u001b[0m\n",
      "\u001b[34mIteration 44, loss = 1.51805557\u001b[0m\n",
      "\u001b[34mIteration 45, loss = 1.51739290\u001b[0m\n",
      "\u001b[34mIteration 46, loss = 1.51699168\u001b[0m\n",
      "\u001b[34mIteration 47, loss = 1.51627240\u001b[0m\n",
      "\u001b[34mIteration 48, loss = 1.51531979\u001b[0m\n",
      "\u001b[34mIteration 49, loss = 1.51417645\u001b[0m\n",
      "\u001b[34mIteration 50, loss = 1.51274167\u001b[0m\n",
      "\u001b[34mIteration 51, loss = 1.51136063\u001b[0m\n",
      "\u001b[34mIteration 52, loss = 1.50996094\u001b[0m\n",
      "\u001b[34mIteration 53, loss = 1.50899279\u001b[0m\n",
      "\u001b[34mIteration 54, loss = 1.50765781\u001b[0m\n",
      "\u001b[34mIteration 55, loss = 1.50670319\u001b[0m\n",
      "\u001b[34mIteration 56, loss = 1.50644310\u001b[0m\n",
      "\u001b[34mIteration 57, loss = 1.50616365\u001b[0m\n",
      "\u001b[34mIteration 58, loss = 1.50681250\u001b[0m\n",
      "\u001b[34mIteration 59, loss = 1.50681898\u001b[0m\n",
      "\u001b[34mIteration 60, loss = 1.50656774\u001b[0m\n",
      "\u001b[34mIteration 61, loss = 1.50577529\u001b[0m\n",
      "\u001b[34mIteration 62, loss = 1.50558955\u001b[0m\n",
      "\u001b[34mIteration 63, loss = 1.50536322\u001b[0m\n",
      "\u001b[34mIteration 64, loss = 1.50551699\u001b[0m\n",
      "\u001b[34mIteration 65, loss = 1.50504312\u001b[0m\n",
      "\u001b[34mIteration 66, loss = 1.50484072\u001b[0m\n",
      "\u001b[34mIteration 67, loss = 1.50451109\u001b[0m\n",
      "\u001b[34mIteration 68, loss = 1.50428782\u001b[0m\n",
      "\u001b[34mIteration 69, loss = 1.50364638\u001b[0m\n",
      "\u001b[34mIteration 70, loss = 1.50292390\u001b[0m\n",
      "\u001b[34mIteration 71, loss = 1.50276021\u001b[0m\n",
      "\u001b[34mIteration 72, loss = 1.50127224\u001b[0m\n",
      "\u001b[34mIteration 73, loss = 1.49987356\u001b[0m\n",
      "\u001b[34mIteration 74, loss = 1.49817216\u001b[0m\n",
      "\u001b[34mIteration 75, loss = 1.49655898\u001b[0m\n",
      "\u001b[34mIteration 76, loss = 1.49482544\u001b[0m\n",
      "\u001b[34mIteration 77, loss = 1.49429221\u001b[0m\n",
      "\u001b[34mIteration 78, loss = 1.49288222\u001b[0m\n",
      "\u001b[34mIteration 79, loss = 1.49176223\u001b[0m\n",
      "\u001b[34mIteration 80, loss = 1.49093824\u001b[0m\n",
      "\u001b[34mIteration 81, loss = 1.49010363\u001b[0m\n",
      "\u001b[34mIteration 82, loss = 1.48949031\u001b[0m\n",
      "\u001b[34mIteration 83, loss = 1.48872173\u001b[0m\n",
      "\u001b[34mIteration 84, loss = 1.48871400\u001b[0m\n",
      "\u001b[34mIteration 85, loss = 1.48794111\u001b[0m\n",
      "\u001b[34mIteration 86, loss = 1.48790036\u001b[0m\n",
      "\u001b[34mIteration 87, loss = 1.48741208\u001b[0m\n",
      "\u001b[34mIteration 88, loss = 1.48689086\u001b[0m\n",
      "\u001b[34mIteration 89, loss = 1.48696875\u001b[0m\n",
      "\u001b[34mIteration 90, loss = 1.48629514\u001b[0m\n",
      "\u001b[34mIteration 91, loss = 1.48623402\u001b[0m\n",
      "\u001b[34mIteration 92, loss = 1.48590707\u001b[0m\n",
      "\u001b[34mIteration 93, loss = 1.48604119\u001b[0m\n",
      "\u001b[34mIteration 94, loss = 1.48551718\u001b[0m\n",
      "\u001b[34mIteration 95, loss = 1.48516264\u001b[0m\n",
      "\u001b[34mIteration 96, loss = 1.48503199\u001b[0m\n",
      "\u001b[34mIteration 97, loss = 1.48492120\u001b[0m\n",
      "\u001b[34mIteration 98, loss = 1.48439348\u001b[0m\n",
      "\u001b[34mIteration 99, loss = 1.48473742\u001b[0m\n",
      "\u001b[34mIteration 100, loss = 1.48421080\u001b[0m\n",
      "\u001b[34m/miniconda3/lib/python3.7/site-packages/sklearn/neural_network/_multilayer_perceptron.py:585: ConvergenceWarning: Stochastic Optimizer: Maximum iterations (100) reached and the optimization hasn't converged yet.\n",
      "  % self.max_iter, ConvergenceWarning)\u001b[0m\n",
      "\u001b[34m2021-02-07 06:21:12,509 sagemaker-containers INFO     Reporting training SUCCESS\u001b[0m\n",
      "\n",
      "2021-02-07 06:21:28 Uploading - Uploading generated training model\n",
      "2021-02-07 06:21:28 Completed - Training job completed\n",
      "Training seconds: 1714\n",
      "Billable seconds: 1714\n",
      "CPU times: user 4.6 s, sys: 275 ms, total: 4.87 s\n",
      "Wall time: 31min 12s\n"
     ]
    }
   ],
   "source": [
    "%%time\n",
    "output_path='s3://{}/{}/'.format(bucket, prefix)\n",
    "\n",
    "# Train your estimator on S3 training data\n",
    "sklearn_mlp.fit({'train': output_path})"
   ]
  },
  {
   "cell_type": "code",
   "execution_count": 7,
   "metadata": {},
   "outputs": [
    {
     "name": "stdout",
     "output_type": "stream",
     "text": [
      "-----------------!"
     ]
    }
   ],
   "source": [
    "mlp_predictor = sklearn_mlp.deploy(initial_instance_count=1, instance_type='ml.t2.medium')"
   ]
  },
  {
   "cell_type": "code",
   "execution_count": 8,
   "metadata": {},
   "outputs": [],
   "source": [
    "test_x = pd.read_csv(os.path.join(data_dir, 'test.csv'), header=None)\n",
    "test_y = pd.read_csv(os.path.join(data_dir, 'test_y.csv'), header=None)"
   ]
  },
  {
   "cell_type": "code",
   "execution_count": 9,
   "metadata": {},
   "outputs": [],
   "source": [
    "prediction_batches = [mlp_predictor.predict(batch) for batch in np.array_split(test_x, 100)]"
   ]
  },
  {
   "cell_type": "code",
   "execution_count": 10,
   "metadata": {},
   "outputs": [
    {
     "data": {
      "text/plain": [
       "array([0, 0, 0, ..., 4, 0, 8])"
      ]
     },
     "execution_count": 10,
     "metadata": {},
     "output_type": "execute_result"
    }
   ],
   "source": [
    "prediction_batches[0]"
   ]
  },
  {
   "cell_type": "code",
   "execution_count": 11,
   "metadata": {},
   "outputs": [],
   "source": [
    "test_y_preds = np.concatenate([batch for batch in prediction_batches])"
   ]
  },
  {
   "cell_type": "code",
   "execution_count": 12,
   "metadata": {},
   "outputs": [],
   "source": [
    "from sklearn.metrics import accuracy_score\n",
    "from sklearn.metrics import f1_score\n",
    "from utils import print_f1_scores\n",
    "accuracy_mlp = accuracy_score(test_y, test_y_preds)\n",
    "f1_score_mlp = f1_score(test_y, test_y_preds, average=None)\n",
    "df_f1_score_mlp = print_f1_scores(f1_score_mlp)"
   ]
  },
  {
   "cell_type": "code",
   "execution_count": 13,
   "metadata": {},
   "outputs": [
    {
     "data": {
      "text/plain": [
       "0.3894401533517506"
      ]
     },
     "execution_count": 13,
     "metadata": {},
     "output_type": "execute_result"
    }
   ],
   "source": [
    "accuracy_mlp"
   ]
  },
  {
   "cell_type": "code",
   "execution_count": 14,
   "metadata": {},
   "outputs": [
    {
     "data": {
      "text/html": [
       "<div>\n",
       "<style scoped>\n",
       "    .dataframe tbody tr th:only-of-type {\n",
       "        vertical-align: middle;\n",
       "    }\n",
       "\n",
       "    .dataframe tbody tr th {\n",
       "        vertical-align: top;\n",
       "    }\n",
       "\n",
       "    .dataframe thead th {\n",
       "        text-align: right;\n",
       "    }\n",
       "</style>\n",
       "<table border=\"1\" class=\"dataframe\">\n",
       "  <thead>\n",
       "    <tr style=\"text-align: right;\">\n",
       "      <th></th>\n",
       "      <th>Causes Description</th>\n",
       "      <th>F1 scores</th>\n",
       "    </tr>\n",
       "  </thead>\n",
       "  <tbody>\n",
       "    <tr>\n",
       "      <th>0</th>\n",
       "      <td>Lightning</td>\n",
       "      <td>0.589392</td>\n",
       "    </tr>\n",
       "    <tr>\n",
       "      <th>1</th>\n",
       "      <td>Equipment Use</td>\n",
       "      <td>0.035791</td>\n",
       "    </tr>\n",
       "    <tr>\n",
       "      <th>2</th>\n",
       "      <td>Smoking</td>\n",
       "      <td>0.000000</td>\n",
       "    </tr>\n",
       "    <tr>\n",
       "      <th>3</th>\n",
       "      <td>Campfire</td>\n",
       "      <td>0.082728</td>\n",
       "    </tr>\n",
       "    <tr>\n",
       "      <th>4</th>\n",
       "      <td>Debris Burning</td>\n",
       "      <td>0.519612</td>\n",
       "    </tr>\n",
       "    <tr>\n",
       "      <th>5</th>\n",
       "      <td>Railroad</td>\n",
       "      <td>0.000000</td>\n",
       "    </tr>\n",
       "    <tr>\n",
       "      <th>6</th>\n",
       "      <td>Arson</td>\n",
       "      <td>0.278129</td>\n",
       "    </tr>\n",
       "    <tr>\n",
       "      <th>7</th>\n",
       "      <td>Children</td>\n",
       "      <td>0.129730</td>\n",
       "    </tr>\n",
       "    <tr>\n",
       "      <th>8</th>\n",
       "      <td>Miscellaneous</td>\n",
       "      <td>0.391088</td>\n",
       "    </tr>\n",
       "    <tr>\n",
       "      <th>9</th>\n",
       "      <td>Fireworks</td>\n",
       "      <td>0.273736</td>\n",
       "    </tr>\n",
       "    <tr>\n",
       "      <th>10</th>\n",
       "      <td>Powerline</td>\n",
       "      <td>0.000000</td>\n",
       "    </tr>\n",
       "    <tr>\n",
       "      <th>11</th>\n",
       "      <td>Structure</td>\n",
       "      <td>0.000000</td>\n",
       "    </tr>\n",
       "    <tr>\n",
       "      <th>12</th>\n",
       "      <td>Missing/Undefined</td>\n",
       "      <td>0.121680</td>\n",
       "    </tr>\n",
       "  </tbody>\n",
       "</table>\n",
       "</div>"
      ],
      "text/plain": [
       "   Causes Description  F1 scores\n",
       "0           Lightning   0.589392\n",
       "1       Equipment Use   0.035791\n",
       "2             Smoking   0.000000\n",
       "3            Campfire   0.082728\n",
       "4      Debris Burning   0.519612\n",
       "5            Railroad   0.000000\n",
       "6               Arson   0.278129\n",
       "7            Children   0.129730\n",
       "8       Miscellaneous   0.391088\n",
       "9           Fireworks   0.273736\n",
       "10          Powerline   0.000000\n",
       "11          Structure   0.000000\n",
       "12  Missing/Undefined   0.121680"
      ]
     },
     "execution_count": 14,
     "metadata": {},
     "output_type": "execute_result"
    }
   ],
   "source": [
    "df_f1_score_mlp"
   ]
  },
  {
   "cell_type": "code",
   "execution_count": 12,
   "metadata": {},
   "outputs": [],
   "source": [
    "mlp_predictor.delete_endpoint()"
   ]
  },
  {
   "cell_type": "code",
   "execution_count": 17,
   "metadata": {},
   "outputs": [],
   "source": [
    "# sklearn_model = sagemaker.sklearn.model.SKLearnModel(\n",
    "#     model_data = \"s3://sagemaker-us-west-1-170667047098/sagemaker-scikit-learn-2021-02-07-05-50-43-359/output/model.tar.gz\",\n",
    "#     role = role,\n",
    "#     entry_point='train_mlp.py', \n",
    "#     source_dir='source_sklearn',\n",
    "#     py_version='py3',\n",
    "#     framework_version='0.23-1'\n",
    "# )"
   ]
  }
 ],
 "metadata": {
  "kernelspec": {
   "display_name": "conda_python3",
   "language": "python",
   "name": "conda_python3"
  },
  "language_info": {
   "codemirror_mode": {
    "name": "ipython",
    "version": 3
   },
   "file_extension": ".py",
   "mimetype": "text/x-python",
   "name": "python",
   "nbconvert_exporter": "python",
   "pygments_lexer": "ipython3",
   "version": "3.6.10"
  }
 },
 "nbformat": 4,
 "nbformat_minor": 4
}
