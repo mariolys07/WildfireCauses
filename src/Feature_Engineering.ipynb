{
 "cells": [
  {
   "cell_type": "code",
   "execution_count": 1,
   "metadata": {},
   "outputs": [],
   "source": [
    "import pandas as pd\n",
    "import numpy as np\n",
    "import io\n",
    "import sys\n",
    "import os\n",
    "import matplotlib.pyplot as plt\n",
    "from utils import standardize_data"
   ]
  },
  {
   "cell_type": "code",
   "execution_count": 2,
   "metadata": {},
   "outputs": [],
   "source": [
    "import boto3\n",
    "import sagemaker"
   ]
  },
  {
   "cell_type": "code",
   "execution_count": 3,
   "metadata": {},
   "outputs": [],
   "source": [
    "s3_client = boto3.client('s3')\n",
    "bucket_name = 'wildfires'"
   ]
  },
  {
   "cell_type": "code",
   "execution_count": 4,
   "metadata": {},
   "outputs": [],
   "source": [
    "# get a list of objects in the bucket\n",
    "obj_list=s3_client.list_objects(Bucket=bucket_name)\n",
    "\n",
    "# print object(s)in S3 bucket\n",
    "files=[]\n",
    "for contents in obj_list['Contents']:\n",
    "    files.append(contents['Key'])"
   ]
  },
  {
   "cell_type": "code",
   "execution_count": 5,
   "metadata": {},
   "outputs": [],
   "source": [
    "file_name = files[0]\n",
    "# get an S3 object by passing in the bucket and file name\n",
    "data_object = s3_client.get_object(Bucket=bucket_name, Key=file_name)"
   ]
  },
  {
   "cell_type": "code",
   "execution_count": 6,
   "metadata": {},
   "outputs": [],
   "source": [
    "# information is in the \"Body\" of the object\n",
    "data_body = data_object[\"Body\"].read()\n",
    "data_stream = io.BytesIO(data_body)\n",
    "df = pd.read_pickle(data_stream)"
   ]
  },
  {
   "cell_type": "code",
   "execution_count": 7,
   "metadata": {},
   "outputs": [
    {
     "name": "stdout",
     "output_type": "stream",
     "text": [
      "original rows, cols:  (1880465, 11)\n",
      "clean rows, cols:  (997827, 11)\n"
     ]
    }
   ],
   "source": [
    "print('original rows, cols: ', df.shape)\n",
    "# drop any incomplete data\n",
    "clean_df = df.dropna(axis=0)\n",
    "print('clean rows, cols: ', clean_df.shape)"
   ]
  },
  {
   "cell_type": "markdown",
   "metadata": {},
   "source": [
    "By dropping nan values we lose half of the data points. Instead, we will use a function that replace the nan values by the mean or by the most common entry, depending on the case."
   ]
  },
  {
   "cell_type": "code",
   "execution_count": 8,
   "metadata": {},
   "outputs": [
    {
     "name": "stdout",
     "output_type": "stream",
     "text": [
      "Number of NaN values for FIRE_YEAR is 0\n",
      "Number of NaN values for DISCOVERY_DATE is 0\n",
      "Number of NaN values for DISCOVERY_DOY is 0\n",
      "Number of NaN values for DISCOVERY_TIME is 882638\n",
      "Number of NaN values for LATITUDE is 0\n",
      "Number of NaN values for LONGITUDE is 0\n",
      "Number of NaN values for FIRE_SIZE is 0\n",
      "Number of NaN values for FIRE_SIZE_CLASS is 0\n",
      "Number of NaN values for STAT_CAUSE_CODE is 0\n",
      "Number of NaN values for STAT_CAUSE_DESCR is 0\n",
      "Number of NaN values for STATE is 0\n"
     ]
    }
   ],
   "source": [
    "for column_name in df.columns:\n",
    "    print(\"Number of NaN values for {} is {}\".format(column_name, len(df) - df[column_name].count()))"
   ]
  },
  {
   "cell_type": "markdown",
   "metadata": {},
   "source": [
    "Standarization techniques:\n",
    "\n",
    "* Convert discovery time column into integers and then into categorical: Morning (0500-1200), Afternoon(1201-1800) and Night(1801-2400, 0000-0459)\n"
   ]
  },
  {
   "cell_type": "code",
   "execution_count": 9,
   "metadata": {},
   "outputs": [],
   "source": [
    "def discretized_time(x):\n",
    "    x_time = int(x)\n",
    "    if x_time >= 500 and x_time <= 1200: \n",
    "        return \"Morning\"\n",
    "    elif x_time >= 1201 and x_time <= 1800:\n",
    "        return \"Afternoon\"\n",
    "    else:\n",
    "        return \"Night\"\n",
    "\n",
    "df[\"DISCOVERY_PART_OF_DAY\"] = df[\"DISCOVERY_TIME\"].apply(lambda x: discretized_time(x) \n",
    "                                                         if not pd.isnull(x) else \"Unknown\")"
   ]
  },
  {
   "cell_type": "code",
   "execution_count": 10,
   "metadata": {},
   "outputs": [
    {
     "data": {
      "text/plain": [
       "<matplotlib.axes._subplots.AxesSubplot at 0x7fc8bd619c18>"
      ]
     },
     "execution_count": 10,
     "metadata": {},
     "output_type": "execute_result"
    },
    {
     "data": {
      "image/png": "[encoded data removed]",
      "text/plain": [
       "<Figure size 864x360 with 1 Axes>"
      ]
     },
     "metadata": {
      "needs_background": "light"
     },
     "output_type": "display_data"
    }
   ],
   "source": [
    "df[\"DISCOVERY_PART_OF_DAY\"].value_counts().plot(kind='bar', figsize=(12,5))"
   ]
  },
  {
   "cell_type": "markdown",
   "metadata": {},
   "source": [
    "Below, checking the value types for each column are consistent and make sense"
   ]
  },
  {
   "cell_type": "code",
   "execution_count": 11,
   "metadata": {},
   "outputs": [
    {
     "name": "stdout",
     "output_type": "stream",
     "text": [
      "FIRE_YEAR                  int64\n",
      "DISCOVERY_DOY              int64\n",
      "FIRE_SIZE                float64\n",
      "STATE                     object\n",
      "DISCOVERY_PART_OF_DAY     object\n",
      "STAT_CAUSE_CODE          float64\n",
      "dtype: object\n"
     ]
    }
   ],
   "source": [
    "final_df = df[['FIRE_YEAR', 'DISCOVERY_DOY', 'FIRE_SIZE', \n",
    "               'STATE', 'DISCOVERY_PART_OF_DAY', 'STAT_CAUSE_CODE']]\n",
    "print(final_df.dtypes)"
   ]
  },
  {
   "cell_type": "markdown",
   "metadata": {},
   "source": [
    "We need to confirm that all the object types are strings."
   ]
  },
  {
   "cell_type": "code",
   "execution_count": 12,
   "metadata": {},
   "outputs": [],
   "source": [
    "object_type_columns = [column_name for column_name in final_df.columns \n",
    "                       if pd.api.types.is_object_dtype(final_df[column_name].dtype)]\n",
    "for column_name in object_type_columns:\n",
    "    final_df[column_name] = final_df[column_name].astype(str)"
   ]
  },
  {
   "cell_type": "markdown",
   "metadata": {},
   "source": [
    "Converting the cause code value types to integer for predictions purposes."
   ]
  },
  {
   "cell_type": "code",
   "execution_count": 13,
   "metadata": {},
   "outputs": [
    {
     "data": {
      "text/plain": [
       "array([ 9.,  1.,  5.,  4.,  2.,  7.,  8.,  6.,  3., 11., 12., 10., 13.])"
      ]
     },
     "execution_count": 13,
     "metadata": {},
     "output_type": "execute_result"
    }
   ],
   "source": [
    "final_df['STAT_CAUSE_CODE'].unique()"
   ]
  },
  {
   "cell_type": "code",
   "execution_count": 14,
   "metadata": {},
   "outputs": [
    {
     "name": "stdout",
     "output_type": "stream",
     "text": [
      "   FIRE_YEAR  DISCOVERY_DOY  FIRE_SIZE STATE DISCOVERY_PART_OF_DAY  \\\n",
      "0       2005             33       0.10    CA             Afternoon   \n",
      "1       2004            133       0.25    CA               Morning   \n",
      "2       2004            152       0.10    CA                 Night   \n",
      "3       2004            180       0.10    CA             Afternoon   \n",
      "4       2004            180       0.10    CA             Afternoon   \n",
      "\n",
      "   STAT_CAUSE_CODE  \n",
      "0                8  \n",
      "1                0  \n",
      "2                4  \n",
      "3                0  \n",
      "4                0  \n",
      "[ 8  0  4  3  1  6  7  5  2 10 11  9 12]\n"
     ]
    }
   ],
   "source": [
    "final_df['STAT_CAUSE_CODE'] = final_df['STAT_CAUSE_CODE'].astype(int) -1\n",
    "print(final_df.head(5))\n",
    "print(final_df['STAT_CAUSE_CODE'].unique())"
   ]
  },
  {
   "cell_type": "markdown",
   "metadata": {},
   "source": [
    "Let's create train, validation and test sets, before applying any standarization and normalization techniques to avoid data leakage. "
   ]
  },
  {
   "cell_type": "code",
   "execution_count": 15,
   "metadata": {},
   "outputs": [],
   "source": [
    "def train_test_split_data(data, train_frac=0.8, seed=42):\n",
    "    # convert the df into a matrix for ease of splitting\n",
    "#     df_matrix = data.to_numpy()\n",
    "    n = data.shape[0]\n",
    "    \n",
    "    # shuffle the data\n",
    "#     np.random.seed(seed)\n",
    "#     np.random.shuffle(df_matrix)\n",
    "    data = data.sample(frac=1)\n",
    "\n",
    "    # split the data\n",
    "    train_size = int(n * train_frac)\n",
    "    diff_size = int(n-train_size)\n",
    "    val_size = int(train_size + np.ceil(diff_size/2))\n",
    "    # features are all but last column\n",
    "    train_features  = data.iloc[:train_size, :-1].reset_index(drop=True)\n",
    "    # class labels *are* last column\n",
    "    train_labels = data.iloc[:train_size, -1].reset_index(drop=True)\n",
    "    # val data\n",
    "    val_features = data.iloc[train_size:val_size, :-1].reset_index(drop=True)\n",
    "    val_labels = data.iloc[train_size:val_size, -1].reset_index(drop=True)\n",
    "    # test data\n",
    "    test_features = data.iloc[val_size:, :-1].reset_index(drop=True)\n",
    "    test_labels = data.iloc[val_size:, -1].reset_index(drop=True)\n",
    "    \n",
    "    return (train_features, train_labels), (val_features, val_labels), (test_features, test_labels)"
   ]
  },
  {
   "cell_type": "code",
   "execution_count": 16,
   "metadata": {},
   "outputs": [],
   "source": [
    "def train_test_split_data_per_year(data):\n",
    "    \n",
    "    train_features = data[data['FIRE_YEAR']<= 2011].iloc[:,:-1]\n",
    "    train_labels  =  data[data['FIRE_YEAR']<= 2011].iloc[:,-1]\n",
    "    val_features = data[(data['FIRE_YEAR'] >= 2012) & (data['FIRE_YEAR'] <= 2013)].iloc[:,:-1]\n",
    "    val_labels = data[(data['FIRE_YEAR'] >= 2012) & (data['FIRE_YEAR'] <= 2013)].iloc[:,-1]\n",
    "    test_features = data[(data['FIRE_YEAR'] >= 2014) & (data['FIRE_YEAR'] <= 2015)].iloc[:,:-1]\n",
    "    test_labels = data[(data['FIRE_YEAR'] >= 2014) & (data['FIRE_YEAR'] <= 2015)].iloc[:,-1]\n",
    "    \n",
    "    return (train_features, train_labels), (val_features, val_labels), (test_features, test_labels)"
   ]
  },
  {
   "cell_type": "code",
   "execution_count": 19,
   "metadata": {},
   "outputs": [],
   "source": [
    "(train_x, train_y), (val_x, val_y), (test_x, test_y) = train_test_split_data_per_year(final_df)"
   ]
  },
  {
   "cell_type": "markdown",
   "metadata": {},
   "source": [
    "Checking all sizes add up to the final data frame shape."
   ]
  },
  {
   "cell_type": "code",
   "execution_count": 20,
   "metadata": {},
   "outputs": [],
   "source": [
    "assert(train_x.shape[0] + val_x.shape[0] + test_x.shape[0] == final_df.shape[0])\n",
    "assert(train_y.shape[0] + val_y.shape[0] + test_y.shape[0] == final_df.shape[0])"
   ]
  },
  {
   "cell_type": "code",
   "execution_count": 22,
   "metadata": {},
   "outputs": [
    {
     "name": "stdout",
     "output_type": "stream",
     "text": [
      "(1600672, 5)\n",
      "(137549, 5)\n",
      "(142244, 5)\n"
     ]
    }
   ],
   "source": [
    "print(train_x.shape)\n",
    "print(val_x.shape)\n",
    "print(test_x.shape)"
   ]
  },
  {
   "cell_type": "code",
   "execution_count": 23,
   "metadata": {},
   "outputs": [],
   "source": [
    "standardized_train_x = standardize_data(train_x)\n",
    "standardized_val_x = standardize_data(val_x)\n",
    "standardized_test_x = standardize_data(test_x)"
   ]
  },
  {
   "cell_type": "markdown",
   "metadata": {},
   "source": [
    "Saving the train, validation and test sets. "
   ]
  },
  {
   "cell_type": "code",
   "execution_count": 24,
   "metadata": {},
   "outputs": [],
   "source": [
    "def make_csv(x, y, filename, data_dir):\n",
    "    # make data dir, if it does not exist\n",
    "    if not os.path.exists(data_dir):\n",
    "        os.makedirs(data_dir)\n",
    "    # your code here\n",
    "    df_x = pd.DataFrame(x)\n",
    "    df_y = pd.DataFrame(y) \n",
    "    df = pd.concat([df_y, df_x], axis=1)\n",
    "    df = df.dropna()\n",
    "    df.to_csv(os.path.join(data_dir,filename), header=False, index=False)\n",
    "    \n",
    "    print('Path created: '+str(data_dir)+'/'+str(filename))"
   ]
  },
  {
   "cell_type": "code",
   "execution_count": 25,
   "metadata": {},
   "outputs": [
    {
     "name": "stdout",
     "output_type": "stream",
     "text": [
      "Path created: wildfire_data/train.csv\n",
      "Path created: wildfire_data/validation.csv\n"
     ]
    }
   ],
   "source": [
    "data_dir = 'wildfire_data'\n",
    "\n",
    "make_csv(standardized_train_x, train_y, filename='train.csv', data_dir=data_dir)\n",
    "make_csv(standardized_val_x, val_y, filename='validation.csv', data_dir=data_dir)\n",
    "standardized_test_x.to_csv(os.path.join(data_dir, 'test.csv'), header=False, index=False)\n",
    "test_y.to_csv(os.path.join(data_dir, 'test_y.csv'), header=False, index=False)"
   ]
  },
  {
   "cell_type": "code",
   "execution_count": 37,
   "metadata": {},
   "outputs": [
    {
     "data": {
      "text/plain": [
       "188046"
      ]
     },
     "execution_count": 37,
     "metadata": {},
     "output_type": "execute_result"
    }
   ],
   "source": [
    "len(test_y)"
   ]
  },
  {
   "cell_type": "code",
   "execution_count": 39,
   "metadata": {},
   "outputs": [
    {
     "data": {
      "text/html": [
       "<div>\n",
       "<style scoped>\n",
       "    .dataframe tbody tr th:only-of-type {\n",
       "        vertical-align: middle;\n",
       "    }\n",
       "\n",
       "    .dataframe tbody tr th {\n",
       "        vertical-align: top;\n",
       "    }\n",
       "\n",
       "    .dataframe thead th {\n",
       "        text-align: right;\n",
       "    }\n",
       "</style>\n",
       "<table border=\"1\" class=\"dataframe\">\n",
       "  <thead>\n",
       "    <tr style=\"text-align: right;\">\n",
       "      <th></th>\n",
       "      <th>FIRE_YEAR</th>\n",
       "      <th>DISCOVERY_DATE</th>\n",
       "      <th>DISCOVERY_DOY</th>\n",
       "      <th>DISCOVERY_TIME</th>\n",
       "      <th>LATITUDE</th>\n",
       "      <th>LONGITUDE</th>\n",
       "      <th>FIRE_SIZE</th>\n",
       "      <th>FIRE_SIZE_CLASS</th>\n",
       "      <th>STAT_CAUSE_CODE</th>\n",
       "      <th>STAT_CAUSE_DESCR</th>\n",
       "      <th>STATE</th>\n",
       "      <th>DISCOVERY_PART_OF_DAY</th>\n",
       "    </tr>\n",
       "  </thead>\n",
       "  <tbody>\n",
       "    <tr>\n",
       "      <th>0</th>\n",
       "      <td>2005</td>\n",
       "      <td>2453403.5</td>\n",
       "      <td>33</td>\n",
       "      <td>1300</td>\n",
       "      <td>40.036944</td>\n",
       "      <td>-121.005833</td>\n",
       "      <td>0.10</td>\n",
       "      <td>A</td>\n",
       "      <td>9.0</td>\n",
       "      <td>Miscellaneous</td>\n",
       "      <td>CA</td>\n",
       "      <td>Afternoon</td>\n",
       "    </tr>\n",
       "    <tr>\n",
       "      <th>1</th>\n",
       "      <td>2004</td>\n",
       "      <td>2453137.5</td>\n",
       "      <td>133</td>\n",
       "      <td>0845</td>\n",
       "      <td>38.933056</td>\n",
       "      <td>-120.404444</td>\n",
       "      <td>0.25</td>\n",
       "      <td>A</td>\n",
       "      <td>1.0</td>\n",
       "      <td>Lightning</td>\n",
       "      <td>CA</td>\n",
       "      <td>Morning</td>\n",
       "    </tr>\n",
       "    <tr>\n",
       "      <th>2</th>\n",
       "      <td>2004</td>\n",
       "      <td>2453156.5</td>\n",
       "      <td>152</td>\n",
       "      <td>1921</td>\n",
       "      <td>38.984167</td>\n",
       "      <td>-120.735556</td>\n",
       "      <td>0.10</td>\n",
       "      <td>A</td>\n",
       "      <td>5.0</td>\n",
       "      <td>Debris Burning</td>\n",
       "      <td>CA</td>\n",
       "      <td>Night</td>\n",
       "    </tr>\n",
       "    <tr>\n",
       "      <th>3</th>\n",
       "      <td>2004</td>\n",
       "      <td>2453184.5</td>\n",
       "      <td>180</td>\n",
       "      <td>1600</td>\n",
       "      <td>38.559167</td>\n",
       "      <td>-119.913333</td>\n",
       "      <td>0.10</td>\n",
       "      <td>A</td>\n",
       "      <td>1.0</td>\n",
       "      <td>Lightning</td>\n",
       "      <td>CA</td>\n",
       "      <td>Afternoon</td>\n",
       "    </tr>\n",
       "    <tr>\n",
       "      <th>4</th>\n",
       "      <td>2004</td>\n",
       "      <td>2453184.5</td>\n",
       "      <td>180</td>\n",
       "      <td>1600</td>\n",
       "      <td>38.559167</td>\n",
       "      <td>-119.933056</td>\n",
       "      <td>0.10</td>\n",
       "      <td>A</td>\n",
       "      <td>1.0</td>\n",
       "      <td>Lightning</td>\n",
       "      <td>CA</td>\n",
       "      <td>Afternoon</td>\n",
       "    </tr>\n",
       "  </tbody>\n",
       "</table>\n",
       "</div>"
      ],
      "text/plain": [
       "   FIRE_YEAR  DISCOVERY_DATE  DISCOVERY_DOY DISCOVERY_TIME   LATITUDE  \\\n",
       "0       2005       2453403.5             33           1300  40.036944   \n",
       "1       2004       2453137.5            133           0845  38.933056   \n",
       "2       2004       2453156.5            152           1921  38.984167   \n",
       "3       2004       2453184.5            180           1600  38.559167   \n",
       "4       2004       2453184.5            180           1600  38.559167   \n",
       "\n",
       "    LONGITUDE  FIRE_SIZE FIRE_SIZE_CLASS  STAT_CAUSE_CODE STAT_CAUSE_DESCR  \\\n",
       "0 -121.005833       0.10               A              9.0    Miscellaneous   \n",
       "1 -120.404444       0.25               A              1.0        Lightning   \n",
       "2 -120.735556       0.10               A              5.0   Debris Burning   \n",
       "3 -119.913333       0.10               A              1.0        Lightning   \n",
       "4 -119.933056       0.10               A              1.0        Lightning   \n",
       "\n",
       "  STATE DISCOVERY_PART_OF_DAY  \n",
       "0    CA             Afternoon  \n",
       "1    CA               Morning  \n",
       "2    CA                 Night  \n",
       "3    CA             Afternoon  \n",
       "4    CA             Afternoon  "
      ]
     },
     "execution_count": 39,
     "metadata": {},
     "output_type": "execute_result"
    }
   ],
   "source": [
    "df.head(5)"
   ]
  },
  {
   "cell_type": "markdown",
   "metadata": {},
   "source": [
    "# cause_for_code = {}\n",
    "code_unique = df['STAT_CAUSE_CODE'].unique().astype(int) - 1\n",
    "cause_unique = df['STAT_CAUSE_DESCR'].unique()\n",
    "for code in code_unique:\n",
    "    cause_for_code[code] = df['STAT_CAUSE_DESCR'][df['STAT_CAUSE_CODE'] == code + 1].iloc[0]\n",
    "print(cause_for_code)"
   ]
  },
  {
   "cell_type": "code",
   "execution_count": null,
   "metadata": {},
   "outputs": [],
   "source": []
  }
 ],
 "metadata": {
  "kernelspec": {
   "display_name": "conda_pytorch_p36",
   "language": "python",
   "name": "conda_pytorch_p36"
  },
  "language_info": {
   "codemirror_mode": {
    "name": "ipython",
    "version": 3
   },
   "file_extension": ".py",
   "mimetype": "text/x-python",
   "name": "python",
   "nbconvert_exporter": "python",
   "pygments_lexer": "ipython3",
   "version": "3.6.10"
  }
 },
 "nbformat": 4,
 "nbformat_minor": 4
}
